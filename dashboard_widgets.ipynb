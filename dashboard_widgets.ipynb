{
 "cells": [
  {
   "cell_type": "code",
   "execution_count": 13,
   "metadata": {},
   "outputs": [],
   "source": [
    "from ipywidgets import interact, interactive, fixed, interact_manual\n",
    "import ipywidgets as widgets\n",
    "import pandas as pd\n",
    "import matplotlib.pyplot as plt\n",
    "import numpy as np\n",
    "from IPython.display import display\n",
    "from IPython.display import display\n",
    "pd.options.display.float_format = '{:.2f}'.format\n",
    "from ipywidgets.embed import embed_minimal_html\n"
   ]
  },
  {
   "cell_type": "code",
   "execution_count": 2,
   "metadata": {},
   "outputs": [],
   "source": [
    "df=pd.read_excel(\"Adcash results 09092020.xlsx\")"
   ]
  },
  {
   "cell_type": "code",
   "execution_count": 8,
   "metadata": {},
   "outputs": [],
   "source": [
    "barWidth1 = 0.08\n",
    "barWidth2 = 0.04\n",
    "# xticks = np.arange(len(bars1) / 8, step=0.125)\n",
    "\n",
    "def make_barchart(df, batch):\n",
    "    \n",
    "    if batch==\"Batch 1\":\n",
    "        df=df[df[\"batch\"]==1]\n",
    "    if batch==\"Batch 2\":\n",
    "        df=df[df[\"batch\"]==2]\n",
    "        \n",
    "    bars1=df[\"Goal value\"] \n",
    "    bars2=df[\"Value\"]\n",
    "    x_labels=df[\"Stage\"]\n",
    "    x_range = np.arange(len(bars1) / 8, step=0.125)\n",
    "    plt.bar(x_range, bars1, color='#dce6f2', width=barWidth1/2, edgecolor='#c3d5e8', label='Target')\n",
    "    plt.bar(x_range, bars2, color='#ffc001', width=barWidth2/2, edgecolor='#c3d5e8', label='Actual Value')\n",
    "#     csfont = {'fontname':'Comic Sans MS'}\n",
    "#     hfont = {'fontname':'Roboto'}\n",
    "    for i, bar in enumerate(bars2):\n",
    "        plt.text(i / 8 - 0.015, bar + 1, bar, fontsize=14)\n",
    "\n",
    "\n",
    "    plt.xticks(x_range, x_labels)\n",
    "    plt.tick_params(\n",
    "        bottom=False,\n",
    "        left=False,\n",
    "        labelsize=20\n",
    "    )\n",
    "    plt.rcParams['figure.figsize'] = [25, 7]\n",
    "    plt.axhline(y=0, color='gray')\n",
    "    plt.legend(frameon=False, loc='lower center', bbox_to_anchor=(0.25, -0.3, 0.5, 0.5), prop={'size':20})\n",
    "    plt.box(False)\n",
    "#     plt.title('title',**csfont)\n",
    "#     plt.xticks( **hfont)\n",
    "    plt.savefig('plt', bbox_inches = \"tight\")\n",
    "    plt.show()\n",
    "    return plt\n",
    "\n",
    "# df2"
   ]
  },
  {
   "cell_type": "code",
   "execution_count": 146,
   "metadata": {},
   "outputs": [],
   "source": [
    "# @widgets.interact(x=True)\n",
    "# def g(x):\n",
    "#     if (x==True):\n",
    "#         print(\"graph1\")\n",
    "#     else:\n",
    "#         print (\"no graph\")\n",
    "        \n",
    "# @widgets.interact(x=\"batch1\")\n",
    "# def g(x):\n",
    "#     if (x==True):\n",
    "#         print(\"graph2\")"
   ]
  },
  {
   "cell_type": "code",
   "execution_count": 185,
   "metadata": {},
   "outputs": [],
   "source": [
    "# x = widgets.Checkbox(\n",
    "#     value=False,\n",
    "#     description='Check me',\n",
    "#     disabled=False\n",
    "# )\n",
    "# x\n",
    "\n"
   ]
  },
  {
   "cell_type": "markdown",
   "metadata": {},
   "source": [
    "# Progress with each batch\n",
    "\n",
    "Below you can see how different KPI-s were met with different batches."
   ]
  },
  {
   "cell_type": "code",
   "execution_count": 12,
   "metadata": {},
   "outputs": [
    {
     "ename": "ImportError",
     "evalue": "cannot import name 'StaticInteract' from 'ipywidgets' (/opt/anaconda3/lib/python3.7/site-packages/ipywidgets/__init__.py)",
     "output_type": "error",
     "traceback": [
      "\u001b[0;31m---------------------------------------------------------------------------\u001b[0m",
      "\u001b[0;31mImportError\u001b[0m                               Traceback (most recent call last)",
      "\u001b[0;32m<ipython-input-12-32e990ef891a>\u001b[0m in \u001b[0;36m<module>\u001b[0;34m\u001b[0m\n\u001b[0;32m----> 1\u001b[0;31m \u001b[0;32mfrom\u001b[0m \u001b[0mipywidgets\u001b[0m \u001b[0;32mimport\u001b[0m \u001b[0mStaticInteract\u001b[0m\u001b[0;34m,\u001b[0m \u001b[0mRangeWidget\u001b[0m\u001b[0;34m,\u001b[0m \u001b[0mRadioWidget\u001b[0m\u001b[0;34m\u001b[0m\u001b[0;34m\u001b[0m\u001b[0m\n\u001b[0m\u001b[1;32m      2\u001b[0m \u001b[0;34m\u001b[0m\u001b[0m\n\u001b[1;32m      3\u001b[0m StaticInteract(make_barchart,\n\u001b[1;32m      4\u001b[0m                batch=RadioWidget(['Batch 1', 'Batch 2']))\n\u001b[1;32m      5\u001b[0m \u001b[0;34m\u001b[0m\u001b[0m\n",
      "\u001b[0;31mImportError\u001b[0m: cannot import name 'StaticInteract' from 'ipywidgets' (/opt/anaconda3/lib/python3.7/site-packages/ipywidgets/__init__.py)"
     ]
    }
   ],
   "source": [
    "from ipywidgets import StaticInteract, RangeWidget, RadioWidget\n",
    "\n",
    "StaticInteract(make_barchart,\n",
    "               batch=RadioWidget(['Batch 1', 'Batch 2']))\n",
    "\n",
    "# make_barchart(df)"
   ]
  },
  {
   "cell_type": "code",
   "execution_count": 5,
   "metadata": {},
   "outputs": [
    {
     "data": {
      "application/vnd.jupyter.widget-view+json": {
       "model_id": "81e818060ba44dbbba275073257ef171",
       "version_major": 2,
       "version_minor": 0
      },
      "text/plain": [
       "interactive(children=(Dropdown(description='batch', options=(1, 2), value=1), Output()), _dom_classes=('widget…"
      ]
     },
     "metadata": {},
     "output_type": "display_data"
    }
   ],
   "source": [
    "def f(batch):\n",
    "    df_small=df[df[\"batch\"]==batch]\n",
    "    make_barchart(df_small)\n",
    "        \n",
    "        \n",
    "barchart=interact(f, batch=[1, 2]);\n",
    "\n",
    "# embed_minimal_html('barchart_export.html', views=[barchart], title='Barchart export')\n"
   ]
  },
  {
   "cell_type": "code",
   "execution_count": 7,
   "metadata": {},
   "outputs": [
    {
     "name": "stdout",
     "output_type": "stream",
     "text": [
      "Dash is running on http://127.0.0.1:8050/\n",
      "\n",
      "Dash is running on http://127.0.0.1:8050/\n",
      "\n",
      " * Serving Flask app \"__main__\" (lazy loading)\n",
      " * Environment: production\n",
      "   WARNING: This is a development server. Do not use it in a production deployment.\n",
      "   Use a production WSGI server instead.\n",
      " * Debug mode: on\n"
     ]
    }
   ],
   "source": [
    "import plotly.graph_objects as go # or plotly.express as px\n",
    "fig = go.Figure() # or any Plotly Express function e.g. px.bar(...)\n",
    "# fig.add_trace( ... )\n",
    "# fig.update_layout( ... )\n",
    "\n",
    "import dash\n",
    "import dash_core_components as dcc\n",
    "import dash_html_components as html\n",
    "\n",
    "app = dash.Dash()\n",
    "app.layout = html.Div([\n",
    "    dcc.Graph(figure=barchart)\n",
    "])\n",
    "\n",
    "app.run_server(debug=True, use_reloader=False)"
   ]
  },
  {
   "cell_type": "code",
   "execution_count": 238,
   "metadata": {},
   "outputs": [],
   "source": [
    "actual=df.pivot(index=\"batch\", columns=\"Stage\", values=\"Value\")\n",
    "# .reset_index([\"Results for batch 1\", \"Results for batch 2\"])\n",
    "goal=df.pivot(index=\"batch\", columns=\"Stage\", values=\"Goal value\")\n",
    "# .reset_index([\"Goal for batch 1\", \"Goal for batch 2\"])\n"
   ]
  },
  {
   "cell_type": "markdown",
   "metadata": {},
   "source": [
    "# Percentage of goals reached in each batch"
   ]
  },
  {
   "cell_type": "code",
   "execution_count": 245,
   "metadata": {},
   "outputs": [
    {
     "data": {
      "text/html": [
       "<style  type=\"text/css\" >\n",
       "    #T_571d6584_f3a8_11ea_994f_a683e7d5ac3erow0_col0 {\n",
       "            background-color:  #006837;\n",
       "            color:  #f1f1f1;\n",
       "        }    #T_571d6584_f3a8_11ea_994f_a683e7d5ac3erow0_col1 {\n",
       "            background-color:  #006837;\n",
       "            color:  #f1f1f1;\n",
       "        }    #T_571d6584_f3a8_11ea_994f_a683e7d5ac3erow0_col2 {\n",
       "            background-color:  #a50026;\n",
       "            color:  #f1f1f1;\n",
       "        }    #T_571d6584_f3a8_11ea_994f_a683e7d5ac3erow0_col3 {\n",
       "            background-color:  #006837;\n",
       "            color:  #f1f1f1;\n",
       "        }    #T_571d6584_f3a8_11ea_994f_a683e7d5ac3erow0_col4 {\n",
       "            background-color:  #006837;\n",
       "            color:  #f1f1f1;\n",
       "        }    #T_571d6584_f3a8_11ea_994f_a683e7d5ac3erow0_col5 {\n",
       "            background-color:  #006837;\n",
       "            color:  #f1f1f1;\n",
       "        }    #T_571d6584_f3a8_11ea_994f_a683e7d5ac3erow1_col0 {\n",
       "            background-color:  #a50026;\n",
       "            color:  #f1f1f1;\n",
       "        }    #T_571d6584_f3a8_11ea_994f_a683e7d5ac3erow1_col1 {\n",
       "            background-color:  #a50026;\n",
       "            color:  #f1f1f1;\n",
       "        }    #T_571d6584_f3a8_11ea_994f_a683e7d5ac3erow1_col2 {\n",
       "            background-color:  #006837;\n",
       "            color:  #f1f1f1;\n",
       "        }    #T_571d6584_f3a8_11ea_994f_a683e7d5ac3erow1_col3 {\n",
       "            background-color:  #a50026;\n",
       "            color:  #f1f1f1;\n",
       "        }    #T_571d6584_f3a8_11ea_994f_a683e7d5ac3erow1_col4 {\n",
       "            background-color:  #a50026;\n",
       "            color:  #f1f1f1;\n",
       "        }    #T_571d6584_f3a8_11ea_994f_a683e7d5ac3erow1_col5 {\n",
       "            background-color:  #a50026;\n",
       "            color:  #f1f1f1;\n",
       "        }</style><table id=\"T_571d6584_f3a8_11ea_994f_a683e7d5ac3e\" ><thead>    <tr>        <th class=\"index_name level0\" >Stage</th>        <th class=\"col_heading level0 col0\" >Added tags</th>        <th class=\"col_heading level0 col1\" >Agreed deal</th>        <th class=\"col_heading level0 col2\" >Contacted</th>        <th class=\"col_heading level0 col3\" >Finished</th>        <th class=\"col_heading level0 col4\" >Opened</th>        <th class=\"col_heading level0 col5\" >Preferred bot</th>    </tr>    <tr>        <th class=\"index_name level0\" >batch</th>        <th class=\"blank\" ></th>        <th class=\"blank\" ></th>        <th class=\"blank\" ></th>        <th class=\"blank\" ></th>        <th class=\"blank\" ></th>        <th class=\"blank\" ></th>    </tr></thead><tbody>\n",
       "                <tr>\n",
       "                        <th id=\"T_571d6584_f3a8_11ea_994f_a683e7d5ac3elevel0_row0\" class=\"row_heading level0 row0\" >1</th>\n",
       "                        <td id=\"T_571d6584_f3a8_11ea_994f_a683e7d5ac3erow0_col0\" class=\"data row0 col0\" >1</td>\n",
       "                        <td id=\"T_571d6584_f3a8_11ea_994f_a683e7d5ac3erow0_col1\" class=\"data row0 col1\" >1</td>\n",
       "                        <td id=\"T_571d6584_f3a8_11ea_994f_a683e7d5ac3erow0_col2\" class=\"data row0 col2\" >0.91</td>\n",
       "                        <td id=\"T_571d6584_f3a8_11ea_994f_a683e7d5ac3erow0_col3\" class=\"data row0 col3\" >1.16667</td>\n",
       "                        <td id=\"T_571d6584_f3a8_11ea_994f_a683e7d5ac3erow0_col4\" class=\"data row0 col4\" >0.897959</td>\n",
       "                        <td id=\"T_571d6584_f3a8_11ea_994f_a683e7d5ac3erow0_col5\" class=\"data row0 col5\" >1</td>\n",
       "            </tr>\n",
       "            <tr>\n",
       "                        <th id=\"T_571d6584_f3a8_11ea_994f_a683e7d5ac3elevel0_row1\" class=\"row_heading level0 row1\" >2</th>\n",
       "                        <td id=\"T_571d6584_f3a8_11ea_994f_a683e7d5ac3erow1_col0\" class=\"data row1 col0\" >0.200417</td>\n",
       "                        <td id=\"T_571d6584_f3a8_11ea_994f_a683e7d5ac3erow1_col1\" class=\"data row1 col1\" >0.606261</td>\n",
       "                        <td id=\"T_571d6584_f3a8_11ea_994f_a683e7d5ac3erow1_col2\" class=\"data row1 col2\" >1</td>\n",
       "                        <td id=\"T_571d6584_f3a8_11ea_994f_a683e7d5ac3erow1_col3\" class=\"data row1 col3\" >0.925926</td>\n",
       "                        <td id=\"T_571d6584_f3a8_11ea_994f_a683e7d5ac3erow1_col4\" class=\"data row1 col4\" >0.814815</td>\n",
       "                        <td id=\"T_571d6584_f3a8_11ea_994f_a683e7d5ac3erow1_col5\" class=\"data row1 col5\" >0.543596</td>\n",
       "            </tr>\n",
       "    </tbody></table>"
      ],
      "text/plain": [
       "<pandas.io.formats.style.Styler at 0x1a1baed1d0>"
      ]
     },
     "execution_count": 245,
     "metadata": {},
     "output_type": "execute_result"
    }
   ],
   "source": [
    "pd.options.display.float_format = '{:.2f}%'.format\n",
    "\n",
    "achieved_goals= actual/goal\n",
    "\n",
    "achieved_goals \n",
    "\n",
    "styled = achieved_goals.style.background_gradient(cmap='RdYlGn')  # styler is a Styler\n",
    "# styled[\"Added tags\"]\n",
    "# .astype(str) + '%'\n",
    "styled"
   ]
  },
  {
   "cell_type": "markdown",
   "metadata": {},
   "source": [
    "# Goals set for each batch"
   ]
  },
  {
   "cell_type": "code",
   "execution_count": 215,
   "metadata": {},
   "outputs": [
    {
     "data": {
      "text/html": [
       "<div>\n",
       "<style scoped>\n",
       "    .dataframe tbody tr th:only-of-type {\n",
       "        vertical-align: middle;\n",
       "    }\n",
       "\n",
       "    .dataframe tbody tr th {\n",
       "        vertical-align: top;\n",
       "    }\n",
       "\n",
       "    .dataframe thead th {\n",
       "        text-align: right;\n",
       "    }\n",
       "</style>\n",
       "<table border=\"1\" class=\"dataframe\">\n",
       "  <thead>\n",
       "    <tr style=\"text-align: right;\">\n",
       "      <th>Stage</th>\n",
       "      <th>Contacted</th>\n",
       "      <th>Opened</th>\n",
       "      <th>Finished</th>\n",
       "      <th>Agreed deal</th>\n",
       "      <th>Added tags</th>\n",
       "    </tr>\n",
       "    <tr>\n",
       "      <th>batch</th>\n",
       "      <th></th>\n",
       "      <th></th>\n",
       "      <th></th>\n",
       "      <th></th>\n",
       "      <th></th>\n",
       "    </tr>\n",
       "  </thead>\n",
       "  <tbody>\n",
       "    <tr>\n",
       "      <td>1</td>\n",
       "      <td>100</td>\n",
       "      <td>49</td>\n",
       "      <td>18</td>\n",
       "      <td>11</td>\n",
       "      <td>2</td>\n",
       "    </tr>\n",
       "    <tr>\n",
       "      <td>2</td>\n",
       "      <td>100</td>\n",
       "      <td>54</td>\n",
       "      <td>23</td>\n",
       "      <td>18</td>\n",
       "      <td>10</td>\n",
       "    </tr>\n",
       "  </tbody>\n",
       "</table>\n",
       "</div>"
      ],
      "text/plain": [
       "Stage  Contacted  Opened  Finished  Agreed deal  Added tags\n",
       "batch                                                      \n",
       "1            100      49        18           11           2\n",
       "2            100      54        23           18          10"
      ]
     },
     "execution_count": 215,
     "metadata": {},
     "output_type": "execute_result"
    }
   ],
   "source": [
    "pd.options.display.float_format = '{:.0f}'.format\n",
    "\n",
    "goal[[\"Contacted\", \"Opened\", \"Finished\", \"Agreed deal\", \"Added tags\"]]\n",
    "# .reset_index().reset_index()\n",
    "\n",
    "# .set_index(\"batch\")[['Added tags', 'Agreed deal', 'Contacted', 'Finished','Opened', 'Preferred bot']]\n",
    "# set_index(\"batch\")\n",
    "# .set_index()\n",
    "# .index\n",
    "# [goal.columns]\n",
    "# [x_labels]"
   ]
  },
  {
   "cell_type": "markdown",
   "metadata": {},
   "source": [
    "# Actual rates achieved for each batch"
   ]
  },
  {
   "cell_type": "code",
   "execution_count": 217,
   "metadata": {},
   "outputs": [
    {
     "data": {
      "text/html": [
       "<div>\n",
       "<style scoped>\n",
       "    .dataframe tbody tr th:only-of-type {\n",
       "        vertical-align: middle;\n",
       "    }\n",
       "\n",
       "    .dataframe tbody tr th {\n",
       "        vertical-align: top;\n",
       "    }\n",
       "\n",
       "    .dataframe thead th {\n",
       "        text-align: right;\n",
       "    }\n",
       "</style>\n",
       "<table border=\"1\" class=\"dataframe\">\n",
       "  <thead>\n",
       "    <tr style=\"text-align: right;\">\n",
       "      <th>Stage</th>\n",
       "      <th>Contacted</th>\n",
       "      <th>Opened</th>\n",
       "      <th>Finished</th>\n",
       "      <th>Agreed deal</th>\n",
       "      <th>Added tags</th>\n",
       "    </tr>\n",
       "    <tr>\n",
       "      <th>batch</th>\n",
       "      <th></th>\n",
       "      <th></th>\n",
       "      <th></th>\n",
       "      <th></th>\n",
       "      <th></th>\n",
       "    </tr>\n",
       "  </thead>\n",
       "  <tbody>\n",
       "    <tr>\n",
       "      <td>1</td>\n",
       "      <td>91</td>\n",
       "      <td>44</td>\n",
       "      <td>21</td>\n",
       "      <td>11</td>\n",
       "      <td>2</td>\n",
       "    </tr>\n",
       "    <tr>\n",
       "      <td>2</td>\n",
       "      <td>100</td>\n",
       "      <td>44</td>\n",
       "      <td>21</td>\n",
       "      <td>11</td>\n",
       "      <td>2</td>\n",
       "    </tr>\n",
       "  </tbody>\n",
       "</table>\n",
       "</div>"
      ],
      "text/plain": [
       "Stage  Contacted  Opened  Finished  Agreed deal  Added tags\n",
       "batch                                                      \n",
       "1             91      44        21           11           2\n",
       "2            100      44        21           11           2"
      ]
     },
     "execution_count": 217,
     "metadata": {},
     "output_type": "execute_result"
    }
   ],
   "source": [
    "pd.options.display.float_format = '{:.0f}'.format\n",
    "\n",
    "actual[[\"Contacted\", \"Opened\", \"Finished\", \"Agreed deal\", \"Added tags\"]]\n"
   ]
  }
 ],
 "metadata": {
  "kernelspec": {
   "display_name": "Python 3",
   "language": "python",
   "name": "python3"
  },
  "language_info": {
   "codemirror_mode": {
    "name": "ipython",
    "version": 3
   },
   "file_extension": ".py",
   "mimetype": "text/x-python",
   "name": "python",
   "nbconvert_exporter": "python",
   "pygments_lexer": "ipython3",
   "version": "3.7.4"
  },
  "widgets": {
   "application/vnd.jupyter.widget-state+json": {
    "state": {
     "012b6742ed38452c9eacec77e2560535": {
      "model_module": "@jupyter-widgets/controls",
      "model_module_version": "1.5.0",
      "model_name": "DescriptionStyleModel",
      "state": {
       "description_width": ""
      }
     },
     "037d7fc24c154679bc7963f9070b8c19": {
      "model_module": "@jupyter-widgets/base",
      "model_module_version": "1.2.0",
      "model_name": "LayoutModel",
      "state": {}
     },
     "03e92f92c2c44026bb84443ba43897a5": {
      "model_module": "@jupyter-widgets/base",
      "model_module_version": "1.2.0",
      "model_name": "LayoutModel",
      "state": {}
     },
     "03ebecedecce461db283b348b260b2d9": {
      "model_module": "@jupyter-widgets/controls",
      "model_module_version": "1.5.0",
      "model_name": "VBoxModel",
      "state": {
       "_dom_classes": [
        "widget-interact"
       ],
       "children": [
        "IPY_MODEL_c391c99d724642908135df5850a2ab8e",
        "IPY_MODEL_f2e8bf33d09b448eb73ec9ee1effc7ff",
        "IPY_MODEL_4a4ef3fa7a3943fba6fdc220b38b8961"
       ],
       "layout": "IPY_MODEL_079a500de0a14187bed7668cfb1ebe20"
      }
     },
     "046a6e5b890445629902e4184dc33f8b": {
      "model_module": "@jupyter-widgets/controls",
      "model_module_version": "1.5.0",
      "model_name": "CheckboxModel",
      "state": {
       "description": "Check me",
       "disabled": false,
       "layout": "IPY_MODEL_5f70596255284567815bf147cfbb80bb",
       "style": "IPY_MODEL_44cf76fc85ac4147ac003fd327053ee1",
       "value": false
      }
     },
     "05feeae3583247658515b64865746408": {
      "model_module": "@jupyter-widgets/controls",
      "model_module_version": "1.5.0",
      "model_name": "DescriptionStyleModel",
      "state": {
       "description_width": ""
      }
     },
     "0675e7fb0e764ba0a17b488373c6bfa0": {
      "model_module": "@jupyter-widgets/output",
      "model_module_version": "1.0.0",
      "model_name": "OutputModel",
      "state": {
       "layout": "IPY_MODEL_7b649184b6b449c0b4da14f0b476203e",
       "outputs": [
        {
         "name": "stdout",
         "output_type": "stream",
         "text": "this is batch 3\n"
        }
       ]
      }
     },
     "079a500de0a14187bed7668cfb1ebe20": {
      "model_module": "@jupyter-widgets/base",
      "model_module_version": "1.2.0",
      "model_name": "LayoutModel",
      "state": {}
     },
     "07dddedd208949be8732c2e10f700852": {
      "model_module": "@jupyter-widgets/base",
      "model_module_version": "1.2.0",
      "model_name": "LayoutModel",
      "state": {}
     },
     "0887683924ee49039fb669d4c2441f73": {
      "model_module": "@jupyter-widgets/output",
      "model_module_version": "1.0.0",
      "model_name": "OutputModel",
      "state": {
       "layout": "IPY_MODEL_eed67691cdca4ef183f0f37b2892da0e",
       "outputs": [
        {
         "data": {
          "image/png": "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\n",
          "text/plain": "<Figure size 1800x504 with 1 Axes>"
         },
         "metadata": {
          "needs_background": "light"
         },
         "output_type": "display_data"
        }
       ]
      }
     },
     "088b1745a7fd48e6a2c44f057ff86165": {
      "model_module": "@jupyter-widgets/base",
      "model_module_version": "1.2.0",
      "model_name": "LayoutModel",
      "state": {}
     },
     "08b4b7522f9e4bbc9f5160d5a5c5b221": {
      "model_module": "@jupyter-widgets/controls",
      "model_module_version": "1.5.0",
      "model_name": "VBoxModel",
      "state": {
       "_dom_classes": [
        "widget-interact"
       ],
       "children": [
        "IPY_MODEL_5c630ed8e8db4f409a3141db776fff7d",
        "IPY_MODEL_66ff3858ea474835a64d2472fbc3c755"
       ],
       "layout": "IPY_MODEL_905fa0b6faf54606a805e49261c76798"
      }
     },
     "09434d8455a24cddbec2ea04bd1c9b5b": {
      "model_module": "@jupyter-widgets/base",
      "model_module_version": "1.2.0",
      "model_name": "LayoutModel",
      "state": {}
     },
     "0b4e28202f0a4d27addc2e5a7c23487d": {
      "model_module": "@jupyter-widgets/controls",
      "model_module_version": "1.5.0",
      "model_name": "DescriptionStyleModel",
      "state": {
       "description_width": ""
      }
     },
     "0b58e99b1fb04887bd446e2b0684df35": {
      "model_module": "@jupyter-widgets/controls",
      "model_module_version": "1.5.0",
      "model_name": "DescriptionStyleModel",
      "state": {
       "description_width": ""
      }
     },
     "0be774251f7b4ff382ea87e1300813e1": {
      "model_module": "@jupyter-widgets/output",
      "model_module_version": "1.0.0",
      "model_name": "OutputModel",
      "state": {
       "layout": "IPY_MODEL_a8581f6421fe491eade2b531a6a745be",
       "outputs": [
        {
         "data": {
          "image/png": "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\n",
          "text/plain": "<Figure size 1800x504 with 1 Axes>"
         },
         "metadata": {
          "needs_background": "light"
         },
         "output_type": "display_data"
        }
       ]
      }
     },
     "0cf19d858dd345f1947fdbae74d57def": {
      "model_module": "@jupyter-widgets/controls",
      "model_module_version": "1.5.0",
      "model_name": "CheckboxModel",
      "state": {
       "description": "x",
       "disabled": false,
       "layout": "IPY_MODEL_bdaf98e7613a48e0a85f89a382acb9e6",
       "style": "IPY_MODEL_4f9a3d08d2404bbfb26fe15c7a34c504",
       "value": true
      }
     },
     "0d0cbed3ed9849eba018c17f80a01431": {
      "model_module": "@jupyter-widgets/output",
      "model_module_version": "1.0.0",
      "model_name": "OutputModel",
      "state": {
       "layout": "IPY_MODEL_5d7c46e6c1ae450d9c41456a14eb2478",
       "outputs": [
        {
         "data": {
          "image/png": "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\n",
          "text/plain": "<Figure size 1800x504 with 1 Axes>"
         },
         "metadata": {
          "needs_background": "light"
         },
         "output_type": "display_data"
        }
       ]
      }
     },
     "0d4e126607d641588a1717b8a91e2da1": {
      "model_module": "@jupyter-widgets/base",
      "model_module_version": "1.2.0",
      "model_name": "LayoutModel",
      "state": {}
     },
     "0e6af51703564484a56a67d367d5190a": {
      "model_module": "@jupyter-widgets/base",
      "model_module_version": "1.2.0",
      "model_name": "LayoutModel",
      "state": {}
     },
     "0fb961a671114f0ea0da08b8c9739042": {
      "model_module": "@jupyter-widgets/base",
      "model_module_version": "1.2.0",
      "model_name": "LayoutModel",
      "state": {}
     },
     "1013c0727ed643849a305746a2a50491": {
      "model_module": "@jupyter-widgets/base",
      "model_module_version": "1.2.0",
      "model_name": "LayoutModel",
      "state": {}
     },
     "10230a6c9b4c4cb8aa4454a0048d68d2": {
      "model_module": "@jupyter-widgets/base",
      "model_module_version": "1.2.0",
      "model_name": "LayoutModel",
      "state": {}
     },
     "1054d787771d4c8590368964b29d67f1": {
      "model_module": "@jupyter-widgets/controls",
      "model_module_version": "1.5.0",
      "model_name": "CheckboxModel",
      "state": {
       "description": "x",
       "disabled": false,
       "layout": "IPY_MODEL_f058cc76a402403393be5319125c3bae",
       "style": "IPY_MODEL_cfe3ea93d4604717a3ccff78510e3ae6",
       "value": true
      }
     },
     "1182da40f75f4eaab1f0181653b0a464": {
      "model_module": "@jupyter-widgets/base",
      "model_module_version": "1.2.0",
      "model_name": "LayoutModel",
      "state": {}
     },
     "12bf5d197c084d86846ab667d2cd89bd": {
      "model_module": "@jupyter-widgets/output",
      "model_module_version": "1.0.0",
      "model_name": "OutputModel",
      "state": {
       "layout": "IPY_MODEL_cb9e48a411d64ce4be78f209f7dc8409",
       "outputs": [
        {
         "name": "stdout",
         "output_type": "stream",
         "text": "graph1\n"
        }
       ]
      }
     },
     "14e233735bd340e6a5dae9388973e564": {
      "model_module": "@jupyter-widgets/base",
      "model_module_version": "1.2.0",
      "model_name": "LayoutModel",
      "state": {}
     },
     "15285d316e244232b0ed71bdf455ca8a": {
      "model_module": "@jupyter-widgets/base",
      "model_module_version": "1.2.0",
      "model_name": "LayoutModel",
      "state": {}
     },
     "15dcdbac4bf446e6b29cf3c5806a0a2a": {
      "model_module": "@jupyter-widgets/base",
      "model_module_version": "1.2.0",
      "model_name": "LayoutModel",
      "state": {}
     },
     "1619715a13e94779b5c5385155f7d1cb": {
      "model_module": "@jupyter-widgets/controls",
      "model_module_version": "1.5.0",
      "model_name": "VBoxModel",
      "state": {
       "_dom_classes": [
        "widget-interact"
       ],
       "children": [
        "IPY_MODEL_e3e70128019c4f3db70cda51954267f2",
        "IPY_MODEL_2db51df4ff064f969e7ee68a42fd520d"
       ],
       "layout": "IPY_MODEL_633ef4a6d7584a9797c0656cec4a7968"
      }
     },
     "1a13e8c4f8a6446d9450ecea854acc41": {
      "model_module": "@jupyter-widgets/base",
      "model_module_version": "1.2.0",
      "model_name": "LayoutModel",
      "state": {}
     },
     "1adaaec157dc4509aedae4c5bf72ddc3": {
      "model_module": "@jupyter-widgets/controls",
      "model_module_version": "1.5.0",
      "model_name": "CheckboxModel",
      "state": {
       "description": "x",
       "disabled": false,
       "layout": "IPY_MODEL_7e5e2806373044bfa466ee6f8d417f1e",
       "style": "IPY_MODEL_92c6a8e8652e4ab294dd97144fd59b3e",
       "value": true
      }
     },
     "1afc544d947e4e0cb261f3aa0b3ce356": {
      "model_module": "@jupyter-widgets/controls",
      "model_module_version": "1.5.0",
      "model_name": "DescriptionStyleModel",
      "state": {
       "description_width": ""
      }
     },
     "1bd12acbaf544e60a13673ff667e41a3": {
      "model_module": "@jupyter-widgets/controls",
      "model_module_version": "1.5.0",
      "model_name": "DescriptionStyleModel",
      "state": {
       "description_width": ""
      }
     },
     "1dd92268a26845589a9f10dd6dcf4179": {
      "model_module": "@jupyter-widgets/base",
      "model_module_version": "1.2.0",
      "model_name": "LayoutModel",
      "state": {}
     },
     "1f6481ba97784150b8da5ee932dc96a8": {
      "model_module": "@jupyter-widgets/controls",
      "model_module_version": "1.5.0",
      "model_name": "CheckboxModel",
      "state": {
       "description": "x",
       "disabled": false,
       "layout": "IPY_MODEL_846fc904eb0646a19f6b1213c3defda0",
       "style": "IPY_MODEL_d0be1a77b9984c9798d52c6a5d66bb8f",
       "value": true
      }
     },
     "20761627c1e048939511ba8885b2abe3": {
      "model_module": "@jupyter-widgets/base",
      "model_module_version": "1.2.0",
      "model_name": "LayoutModel",
      "state": {}
     },
     "207e8c8f451a4c6e951d7f3fa5e1fa73": {
      "model_module": "@jupyter-widgets/controls",
      "model_module_version": "1.5.0",
      "model_name": "CheckboxModel",
      "state": {
       "description": "x",
       "disabled": false,
       "layout": "IPY_MODEL_1dd92268a26845589a9f10dd6dcf4179",
       "style": "IPY_MODEL_05feeae3583247658515b64865746408",
       "value": true
      }
     },
     "20918a92d64d4099929a1cceb14b75c0": {
      "model_module": "@jupyter-widgets/base",
      "model_module_version": "1.2.0",
      "model_name": "LayoutModel",
      "state": {}
     },
     "223397cd04e547efb94d140070704eaa": {
      "model_module": "@jupyter-widgets/output",
      "model_module_version": "1.0.0",
      "model_name": "OutputModel",
      "state": {
       "layout": "IPY_MODEL_b4f310417ee64cd198548ce971279b9f",
       "outputs": [
        {
         "name": "stdout",
         "output_type": "stream",
         "text": "graph2\n"
        }
       ]
      }
     },
     "224b364eeccb466b8820755acecc83c3": {
      "model_module": "@jupyter-widgets/base",
      "model_module_version": "1.2.0",
      "model_name": "LayoutModel",
      "state": {}
     },
     "224cb4ece74b43e9bfe6cd45684b92e2": {
      "model_module": "@jupyter-widgets/controls",
      "model_module_version": "1.5.0",
      "model_name": "CheckboxModel",
      "state": {
       "description": "Check me",
       "disabled": false,
       "layout": "IPY_MODEL_8dd83cae93724ee48f5675c9e04e922f",
       "style": "IPY_MODEL_cb861d193c17426282a419407d4776f7",
       "value": false
      }
     },
     "22ba549d43aa411189ab264305d1d37d": {
      "model_module": "@jupyter-widgets/base",
      "model_module_version": "1.2.0",
      "model_name": "LayoutModel",
      "state": {}
     },
     "253538a3e11742b6a7e96f17e2419374": {
      "model_module": "@jupyter-widgets/controls",
      "model_module_version": "1.5.0",
      "model_name": "DescriptionStyleModel",
      "state": {
       "description_width": ""
      }
     },
     "25a797f462144ccabf955a1b5365dd46": {
      "model_module": "@jupyter-widgets/controls",
      "model_module_version": "1.5.0",
      "model_name": "DescriptionStyleModel",
      "state": {
       "description_width": ""
      }
     },
     "2725b77b0def4588abaa0cd9cf6f1c55": {
      "model_module": "@jupyter-widgets/base",
      "model_module_version": "1.2.0",
      "model_name": "LayoutModel",
      "state": {}
     },
     "2a0b85ea4bce49b692780c47a01c046b": {
      "model_module": "@jupyter-widgets/base",
      "model_module_version": "1.2.0",
      "model_name": "LayoutModel",
      "state": {}
     },
     "2a743944bc6646579095bef0f186a6e2": {
      "model_module": "@jupyter-widgets/controls",
      "model_module_version": "1.5.0",
      "model_name": "CheckboxModel",
      "state": {
       "description": "x",
       "disabled": false,
       "layout": "IPY_MODEL_1182da40f75f4eaab1f0181653b0a464",
       "style": "IPY_MODEL_6a2388090006438abb9bcf96914e94d3",
       "value": true
      }
     },
     "2af65066b1124b66b5127cb496e65367": {
      "model_module": "@jupyter-widgets/output",
      "model_module_version": "1.0.0",
      "model_name": "OutputModel",
      "state": {
       "layout": "IPY_MODEL_bcabfbaa5c554c11b354a188b43cc391",
       "outputs": [
        {
         "name": "stdout",
         "output_type": "stream",
         "text": "graph1\n"
        }
       ]
      }
     },
     "2b5d0b733a544adb853929a0d05eed42": {
      "model_module": "@jupyter-widgets/controls",
      "model_module_version": "1.5.0",
      "model_name": "DescriptionStyleModel",
      "state": {
       "description_width": ""
      }
     },
     "2b8e573339844c578e56c18ed649cc9f": {
      "model_module": "@jupyter-widgets/base",
      "model_module_version": "1.2.0",
      "model_name": "LayoutModel",
      "state": {}
     },
     "2bcb581c83584d03944dc1c9efae8d53": {
      "model_module": "@jupyter-widgets/base",
      "model_module_version": "1.2.0",
      "model_name": "LayoutModel",
      "state": {}
     },
     "2bfb2224a3c147c8b9115391402d50e0": {
      "model_module": "@jupyter-widgets/controls",
      "model_module_version": "1.5.0",
      "model_name": "DropdownModel",
      "state": {
       "_options_labels": [
        "1",
        "2",
        "3"
       ],
       "description": "batch",
       "index": 2,
       "layout": "IPY_MODEL_bd79fff840be4e06a0ec19397263ae6d",
       "style": "IPY_MODEL_ab1a4402a98b495dbdd3c4c2364fdcd5"
      }
     },
     "2c1210f2e56e4379a13f1268624b5308": {
      "model_module": "@jupyter-widgets/base",
      "model_module_version": "1.2.0",
      "model_name": "LayoutModel",
      "state": {}
     },
     "2db51df4ff064f969e7ee68a42fd520d": {
      "model_module": "@jupyter-widgets/output",
      "model_module_version": "1.0.0",
      "model_name": "OutputModel",
      "state": {
       "layout": "IPY_MODEL_fe0407cc4e08400e92a0ccf93dc6b876",
       "outputs": [
        {
         "name": "stdout",
         "output_type": "stream",
         "text": "graph1\n"
        }
       ]
      }
     },
     "2f40d0928ea74832902797ef82721522": {
      "model_module": "@jupyter-widgets/controls",
      "model_module_version": "1.5.0",
      "model_name": "CheckboxModel",
      "state": {
       "description": "Check me",
       "disabled": false,
       "layout": "IPY_MODEL_a58445e5d689477ba7675b4023a6c107",
       "style": "IPY_MODEL_639da900c5584d6384304f3712affb91",
       "value": false
      }
     },
     "309a6ff0843b4fcb91685fd72919c832": {
      "model_module": "@jupyter-widgets/base",
      "model_module_version": "1.2.0",
      "model_name": "LayoutModel",
      "state": {}
     },
     "34fba2b899c54166903dbd4565d6c8e6": {
      "model_module": "@jupyter-widgets/controls",
      "model_module_version": "1.5.0",
      "model_name": "DescriptionStyleModel",
      "state": {
       "description_width": ""
      }
     },
     "351bc101c2884f9cb0085a63606e5738": {
      "model_module": "@jupyter-widgets/base",
      "model_module_version": "1.2.0",
      "model_name": "LayoutModel",
      "state": {}
     },
     "37ad542a34b94e49ad829db0f618126b": {
      "model_module": "@jupyter-widgets/base",
      "model_module_version": "1.2.0",
      "model_name": "LayoutModel",
      "state": {}
     },
     "37c7b6682e244cfaa03b3b443882e25f": {
      "model_module": "@jupyter-widgets/controls",
      "model_module_version": "1.5.0",
      "model_name": "VBoxModel",
      "state": {
       "_dom_classes": [
        "widget-interact"
       ],
       "children": [
        "IPY_MODEL_f517e1089f7247eb857c6c097686fcbf",
        "IPY_MODEL_ad4485661c4e4d7e8dee338b2ea672df"
       ],
       "layout": "IPY_MODEL_e1f7fbee62ba452ea8ffe55483f2f944"
      }
     },
     "3864577ee00f4d9fa27dee3f639d1a66": {
      "model_module": "@jupyter-widgets/controls",
      "model_module_version": "1.5.0",
      "model_name": "CheckboxModel",
      "state": {
       "description": "x",
       "disabled": false,
       "layout": "IPY_MODEL_808ca5de61e74aeaacf3b7b678d5d6b5",
       "style": "IPY_MODEL_b8061eef55214d73acfdbfa749d8cca7",
       "value": false
      }
     },
     "3944ff230b3e4a91928f479bb0ad786a": {
      "model_module": "@jupyter-widgets/controls",
      "model_module_version": "1.5.0",
      "model_name": "DescriptionStyleModel",
      "state": {
       "description_width": ""
      }
     },
     "39974752d4244dd68a5e253af3549d58": {
      "model_module": "@jupyter-widgets/controls",
      "model_module_version": "1.5.0",
      "model_name": "VBoxModel",
      "state": {
       "_dom_classes": [
        "widget-interact"
       ],
       "children": [
        "IPY_MODEL_1f6481ba97784150b8da5ee932dc96a8",
        "IPY_MODEL_2af65066b1124b66b5127cb496e65367"
       ],
       "layout": "IPY_MODEL_07dddedd208949be8732c2e10f700852"
      }
     },
     "39c0312ca274422a8c90555196bb96cd": {
      "model_module": "@jupyter-widgets/base",
      "model_module_version": "1.2.0",
      "model_name": "LayoutModel",
      "state": {}
     },
     "39e162ec42704a65841f36fa03460cda": {
      "model_module": "@jupyter-widgets/base",
      "model_module_version": "1.2.0",
      "model_name": "LayoutModel",
      "state": {}
     },
     "3a3ce636e96a49eaa1be22ded86bf980": {
      "model_module": "@jupyter-widgets/base",
      "model_module_version": "1.2.0",
      "model_name": "LayoutModel",
      "state": {}
     },
     "3a5120ed553940528f65d112cc509b7b": {
      "model_module": "@jupyter-widgets/output",
      "model_module_version": "1.0.0",
      "model_name": "OutputModel",
      "state": {
       "layout": "IPY_MODEL_c4c85504a5724e1f85fc21b9826351b2",
       "outputs": [
        {
         "name": "stdout",
         "output_type": "stream",
         "text": "no graph\n"
        }
       ]
      }
     },
     "3a67e12bfdc141a18a24d9118f239130": {
      "model_module": "@jupyter-widgets/output",
      "model_module_version": "1.0.0",
      "model_name": "OutputModel",
      "state": {
       "layout": "IPY_MODEL_1a13e8c4f8a6446d9450ecea854acc41",
       "outputs": [
        {
         "name": "stdout",
         "output_type": "stream",
         "text": "no graph\n"
        }
       ]
      }
     },
     "3b6fe286d36d4d7789be0271bab02e4b": {
      "model_module": "@jupyter-widgets/base",
      "model_module_version": "1.2.0",
      "model_name": "LayoutModel",
      "state": {}
     },
     "3b7cf857ff9e463e802c69589e8c272c": {
      "model_module": "@jupyter-widgets/controls",
      "model_module_version": "1.5.0",
      "model_name": "DescriptionStyleModel",
      "state": {
       "description_width": ""
      }
     },
     "3bf0e80f979e4aa1a2664580c74cbabc": {
      "model_module": "@jupyter-widgets/base",
      "model_module_version": "1.2.0",
      "model_name": "LayoutModel",
      "state": {}
     },
     "3d34e3770d884ba7ba38d5a18d026e32": {
      "model_module": "@jupyter-widgets/base",
      "model_module_version": "1.2.0",
      "model_name": "LayoutModel",
      "state": {}
     },
     "3e59eb4c874a4708aae074a8cea51b98": {
      "model_module": "@jupyter-widgets/base",
      "model_module_version": "1.2.0",
      "model_name": "LayoutModel",
      "state": {}
     },
     "41e7476dbead442d865000e985b18428": {
      "model_module": "@jupyter-widgets/controls",
      "model_module_version": "1.5.0",
      "model_name": "DescriptionStyleModel",
      "state": {
       "description_width": ""
      }
     },
     "41f21f7520d4442b9fd6a0ac01e173f3": {
      "model_module": "@jupyter-widgets/controls",
      "model_module_version": "1.5.0",
      "model_name": "VBoxModel",
      "state": {
       "_dom_classes": [
        "widget-interact"
       ],
       "children": [
        "IPY_MODEL_afd6641b23f34e31981179988ac1827e",
        "IPY_MODEL_b313eb63eb3445118fca1fb4b9a16982"
       ],
       "layout": "IPY_MODEL_2bcb581c83584d03944dc1c9efae8d53"
      }
     },
     "44cf76fc85ac4147ac003fd327053ee1": {
      "model_module": "@jupyter-widgets/controls",
      "model_module_version": "1.5.0",
      "model_name": "DescriptionStyleModel",
      "state": {
       "description_width": ""
      }
     },
     "44d0148beda5468cb29956bbeb282082": {
      "model_module": "@jupyter-widgets/base",
      "model_module_version": "1.2.0",
      "model_name": "LayoutModel",
      "state": {}
     },
     "45a5cbb3ed0b4a84bb30735575300345": {
      "model_module": "@jupyter-widgets/output",
      "model_module_version": "1.0.0",
      "model_name": "OutputModel",
      "state": {
       "layout": "IPY_MODEL_dcd71d7ff7254836bb1918ae30ac2cb1",
       "outputs": [
        {
         "name": "stdout",
         "output_type": "stream",
         "text": "graph1\n"
        }
       ]
      }
     },
     "477397579c054f13871ee1fb00b6727f": {
      "model_module": "@jupyter-widgets/output",
      "model_module_version": "1.0.0",
      "model_name": "OutputModel",
      "state": {
       "layout": "IPY_MODEL_5ec0e4d105b842a0a9d0c0cee505e6ec",
       "outputs": [
        {
         "data": {
          "image/png": "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\n",
          "text/plain": "<Figure size 1800x504 with 1 Axes>"
         },
         "metadata": {
          "needs_background": "light"
         },
         "output_type": "display_data"
        }
       ]
      }
     },
     "47c2cc1299ac493e879da3ca56248816": {
      "model_module": "@jupyter-widgets/controls",
      "model_module_version": "1.5.0",
      "model_name": "CheckboxModel",
      "state": {
       "description": "x",
       "disabled": false,
       "layout": "IPY_MODEL_ccd197ea90a744c7a5daf6dc1a5e5d68",
       "style": "IPY_MODEL_f1b43c2e4a004db49a0d031d30b14a8b",
       "value": true
      }
     },
     "48f3f15891c84d71a3cb1c3ca9913718": {
      "model_module": "@jupyter-widgets/controls",
      "model_module_version": "1.5.0",
      "model_name": "DropdownModel",
      "state": {
       "_options_labels": [
        "1",
        "2"
       ],
       "description": "batch",
       "index": 0,
       "layout": "IPY_MODEL_bdcbd642a75a40d5bed7ecd5d029ff11",
       "style": "IPY_MODEL_f23c072eda804bf78ec8c79801d028f9"
      }
     },
     "496de318275646a4b91f8ee1a7408634": {
      "model_module": "@jupyter-widgets/controls",
      "model_module_version": "1.5.0",
      "model_name": "DropdownModel",
      "state": {
       "_options_labels": [
        "1",
        "2"
       ],
       "description": "batch",
       "index": 0,
       "layout": "IPY_MODEL_bec237a4762241e98f1280233e06361c",
       "style": "IPY_MODEL_0b4e28202f0a4d27addc2e5a7c23487d"
      }
     },
     "4a4ef3fa7a3943fba6fdc220b38b8961": {
      "model_module": "@jupyter-widgets/output",
      "model_module_version": "1.0.0",
      "model_name": "OutputModel",
      "state": {
       "layout": "IPY_MODEL_2c1210f2e56e4379a13f1268624b5308",
       "outputs": [
        {
         "data": {
          "text/plain": "(True, 1.0)"
         },
         "metadata": {},
         "output_type": "display_data"
        }
       ]
      }
     },
     "4b1be0698c254b84902e1044071577b5": {
      "model_module": "@jupyter-widgets/base",
      "model_module_version": "1.2.0",
      "model_name": "LayoutModel",
      "state": {}
     },
     "4dec19f2f2ba4f90b9c6cfa1c2113514": {
      "model_module": "@jupyter-widgets/base",
      "model_module_version": "1.2.0",
      "model_name": "LayoutModel",
      "state": {}
     },
     "4f9a3d08d2404bbfb26fe15c7a34c504": {
      "model_module": "@jupyter-widgets/controls",
      "model_module_version": "1.5.0",
      "model_name": "DescriptionStyleModel",
      "state": {
       "description_width": ""
      }
     },
     "527909cbb204491ea1fc45fc0215f1cc": {
      "model_module": "@jupyter-widgets/controls",
      "model_module_version": "1.5.0",
      "model_name": "DescriptionStyleModel",
      "state": {
       "description_width": ""
      }
     },
     "52e8cf2cd0214d7abb60f1e101aad600": {
      "model_module": "@jupyter-widgets/controls",
      "model_module_version": "1.5.0",
      "model_name": "VBoxModel",
      "state": {
       "_dom_classes": [
        "widget-interact"
       ],
       "children": [
        "IPY_MODEL_d3098fcf966e4d74b88e519f75e6aa8d",
        "IPY_MODEL_0887683924ee49039fb669d4c2441f73"
       ],
       "layout": "IPY_MODEL_20918a92d64d4099929a1cceb14b75c0"
      }
     },
     "55493195d0ef4acf898ac7bc5f8e7dae": {
      "model_module": "@jupyter-widgets/controls",
      "model_module_version": "1.5.0",
      "model_name": "CheckboxModel",
      "state": {
       "description": "x",
       "disabled": false,
       "layout": "IPY_MODEL_03e92f92c2c44026bb84443ba43897a5",
       "style": "IPY_MODEL_0b58e99b1fb04887bd446e2b0684df35",
       "value": true
      }
     },
     "555984ed83794db98d4258a8b22915bf": {
      "model_module": "@jupyter-widgets/controls",
      "model_module_version": "1.5.0",
      "model_name": "VBoxModel",
      "state": {
       "_dom_classes": [
        "widget-interact"
       ],
       "children": [
        "IPY_MODEL_ffa1f84c6a3d41c0a5d176ff16104581",
        "IPY_MODEL_477397579c054f13871ee1fb00b6727f"
       ],
       "layout": "IPY_MODEL_2a0b85ea4bce49b692780c47a01c046b"
      }
     },
     "5626794eb81644f3ae56bdbcdd0b6c7f": {
      "model_module": "@jupyter-widgets/base",
      "model_module_version": "1.2.0",
      "model_name": "LayoutModel",
      "state": {}
     },
     "57cf75a6fc3349f28b9b09ee8f1f889a": {
      "model_module": "@jupyter-widgets/base",
      "model_module_version": "1.2.0",
      "model_name": "LayoutModel",
      "state": {}
     },
     "5be6c655bb7e4479ad2a49b0e8bedc64": {
      "model_module": "@jupyter-widgets/output",
      "model_module_version": "1.0.0",
      "model_name": "OutputModel",
      "state": {
       "layout": "IPY_MODEL_bbc60ece6e004d518c96e03517c449b0",
       "outputs": [
        {
         "ename": "IndexError",
         "evalue": "list index out of range",
         "output_type": "error",
         "traceback": [
          "\u001b[0;31m---------------------------------------------------------------------------\u001b[0m",
          "\u001b[0;31mIndexError\u001b[0m                                Traceback (most recent call last)",
          "\u001b[0;32m/opt/anaconda3/lib/python3.7/site-packages/ipywidgets/widgets/interaction.py\u001b[0m in \u001b[0;36mupdate\u001b[0;34m(self, *args)\u001b[0m\n\u001b[1;32m    254\u001b[0m                     \u001b[0mvalue\u001b[0m \u001b[0;34m=\u001b[0m \u001b[0mwidget\u001b[0m\u001b[0;34m.\u001b[0m\u001b[0mget_interact_value\u001b[0m\u001b[0;34m(\u001b[0m\u001b[0;34m)\u001b[0m\u001b[0;34m\u001b[0m\u001b[0;34m\u001b[0m\u001b[0m\n\u001b[1;32m    255\u001b[0m                     \u001b[0mself\u001b[0m\u001b[0;34m.\u001b[0m\u001b[0mkwargs\u001b[0m\u001b[0;34m[\u001b[0m\u001b[0mwidget\u001b[0m\u001b[0;34m.\u001b[0m\u001b[0m_kwarg\u001b[0m\u001b[0;34m]\u001b[0m \u001b[0;34m=\u001b[0m \u001b[0mvalue\u001b[0m\u001b[0;34m\u001b[0m\u001b[0;34m\u001b[0m\u001b[0m\n\u001b[0;32m--> 256\u001b[0;31m                 \u001b[0mself\u001b[0m\u001b[0;34m.\u001b[0m\u001b[0mresult\u001b[0m \u001b[0;34m=\u001b[0m \u001b[0mself\u001b[0m\u001b[0;34m.\u001b[0m\u001b[0mf\u001b[0m\u001b[0;34m(\u001b[0m\u001b[0;34m**\u001b[0m\u001b[0mself\u001b[0m\u001b[0;34m.\u001b[0m\u001b[0mkwargs\u001b[0m\u001b[0;34m)\u001b[0m\u001b[0;34m\u001b[0m\u001b[0;34m\u001b[0m\u001b[0m\n\u001b[0m\u001b[1;32m    257\u001b[0m                 \u001b[0mshow_inline_matplotlib_plots\u001b[0m\u001b[0;34m(\u001b[0m\u001b[0;34m)\u001b[0m\u001b[0;34m\u001b[0m\u001b[0;34m\u001b[0m\u001b[0m\n\u001b[1;32m    258\u001b[0m                 \u001b[0;32mif\u001b[0m \u001b[0mself\u001b[0m\u001b[0;34m.\u001b[0m\u001b[0mauto_display\u001b[0m \u001b[0;32mand\u001b[0m \u001b[0mself\u001b[0m\u001b[0;34m.\u001b[0m\u001b[0mresult\u001b[0m \u001b[0;32mis\u001b[0m \u001b[0;32mnot\u001b[0m \u001b[0;32mNone\u001b[0m\u001b[0;34m:\u001b[0m\u001b[0;34m\u001b[0m\u001b[0;34m\u001b[0m\u001b[0m\n",
          "\u001b[0;32m<ipython-input-99-14ad37521b84>\u001b[0m in \u001b[0;36mf\u001b[0;34m(batch)\u001b[0m\n\u001b[1;32m      1\u001b[0m \u001b[0;32mdef\u001b[0m \u001b[0mf\u001b[0m\u001b[0;34m(\u001b[0m\u001b[0mbatch\u001b[0m\u001b[0;34m)\u001b[0m\u001b[0;34m:\u001b[0m\u001b[0;34m\u001b[0m\u001b[0;34m\u001b[0m\u001b[0m\n\u001b[1;32m      2\u001b[0m     \u001b[0mdf_small\u001b[0m\u001b[0;34m=\u001b[0m\u001b[0mdf\u001b[0m\u001b[0;34m[\u001b[0m\u001b[0mdf\u001b[0m\u001b[0;34m[\u001b[0m\u001b[0;34m\"batch\"\u001b[0m\u001b[0;34m]\u001b[0m\u001b[0;34m==\u001b[0m\u001b[0mbatch\u001b[0m\u001b[0;34m]\u001b[0m\u001b[0;34m\u001b[0m\u001b[0;34m\u001b[0m\u001b[0m\n\u001b[0;32m----> 3\u001b[0;31m     \u001b[0mmake_barchart\u001b[0m\u001b[0;34m(\u001b[0m\u001b[0mdf_small\u001b[0m\u001b[0;34m)\u001b[0m\u001b[0;34m\u001b[0m\u001b[0;34m\u001b[0m\u001b[0m\n\u001b[0m\u001b[1;32m      4\u001b[0m \u001b[0;34m\u001b[0m\u001b[0m\n\u001b[1;32m      5\u001b[0m \u001b[0;34m\u001b[0m\u001b[0m\n",
          "\u001b[0;32m<ipython-input-97-1c1daee78123>\u001b[0m in \u001b[0;36mmake_barchart\u001b[0;34m(df)\u001b[0m\n\u001b[1;32m     23\u001b[0m     \u001b[0mplt\u001b[0m\u001b[0;34m.\u001b[0m\u001b[0mrcParams\u001b[0m\u001b[0;34m[\u001b[0m\u001b[0;34m'figure.figsize'\u001b[0m\u001b[0;34m]\u001b[0m \u001b[0;34m=\u001b[0m \u001b[0;34m[\u001b[0m\u001b[0;36m25\u001b[0m\u001b[0;34m,\u001b[0m \u001b[0;36m7\u001b[0m\u001b[0;34m]\u001b[0m\u001b[0;34m\u001b[0m\u001b[0;34m\u001b[0m\u001b[0m\n\u001b[1;32m     24\u001b[0m     \u001b[0mplt\u001b[0m\u001b[0;34m.\u001b[0m\u001b[0maxhline\u001b[0m\u001b[0;34m(\u001b[0m\u001b[0my\u001b[0m\u001b[0;34m=\u001b[0m\u001b[0;36m0\u001b[0m\u001b[0;34m,\u001b[0m \u001b[0mcolor\u001b[0m\u001b[0;34m=\u001b[0m\u001b[0;34m'gray'\u001b[0m\u001b[0;34m)\u001b[0m\u001b[0;34m\u001b[0m\u001b[0;34m\u001b[0m\u001b[0m\n\u001b[0;32m---> 25\u001b[0;31m     \u001b[0mplt\u001b[0m\u001b[0;34m.\u001b[0m\u001b[0mlegend\u001b[0m\u001b[0;34m(\u001b[0m\u001b[0mframeon\u001b[0m\u001b[0;34m=\u001b[0m\u001b[0;32mFalse\u001b[0m\u001b[0;34m,\u001b[0m \u001b[0mloc\u001b[0m\u001b[0;34m=\u001b[0m\u001b[0;34m'lower center'\u001b[0m\u001b[0;34m,\u001b[0m \u001b[0mbbox_to_anchor\u001b[0m\u001b[0;34m=\u001b[0m\u001b[0;34m(\u001b[0m\u001b[0;36m0.25\u001b[0m\u001b[0;34m,\u001b[0m \u001b[0;34m-\u001b[0m\u001b[0;36m0.3\u001b[0m\u001b[0;34m,\u001b[0m \u001b[0;36m0.5\u001b[0m\u001b[0;34m,\u001b[0m \u001b[0;36m0.5\u001b[0m\u001b[0;34m)\u001b[0m\u001b[0;34m,\u001b[0m \u001b[0mprop\u001b[0m\u001b[0;34m=\u001b[0m\u001b[0;34m{\u001b[0m\u001b[0;34m'size'\u001b[0m\u001b[0;34m:\u001b[0m\u001b[0;36m20\u001b[0m\u001b[0;34m}\u001b[0m\u001b[0;34m)\u001b[0m\u001b[0;34m\u001b[0m\u001b[0;34m\u001b[0m\u001b[0m\n\u001b[0m\u001b[1;32m     26\u001b[0m     \u001b[0mplt\u001b[0m\u001b[0;34m.\u001b[0m\u001b[0mbox\u001b[0m\u001b[0;34m(\u001b[0m\u001b[0;32mFalse\u001b[0m\u001b[0;34m)\u001b[0m\u001b[0;34m\u001b[0m\u001b[0;34m\u001b[0m\u001b[0m\n\u001b[1;32m     27\u001b[0m     \u001b[0mplt\u001b[0m\u001b[0;34m.\u001b[0m\u001b[0msavefig\u001b[0m\u001b[0;34m(\u001b[0m\u001b[0;34m'plt'\u001b[0m\u001b[0;34m,\u001b[0m \u001b[0mbbox_inches\u001b[0m \u001b[0;34m=\u001b[0m \u001b[0;34m\"tight\"\u001b[0m\u001b[0;34m)\u001b[0m\u001b[0;34m\u001b[0m\u001b[0;34m\u001b[0m\u001b[0m\n",
          "\u001b[0;32m/opt/anaconda3/lib/python3.7/site-packages/matplotlib/pyplot.py\u001b[0m in \u001b[0;36mlegend\u001b[0;34m(*args, **kwargs)\u001b[0m\n\u001b[1;32m   2689\u001b[0m \u001b[0;34m@\u001b[0m\u001b[0mdocstring\u001b[0m\u001b[0;34m.\u001b[0m\u001b[0mcopy\u001b[0m\u001b[0;34m(\u001b[0m\u001b[0mAxes\u001b[0m\u001b[0;34m.\u001b[0m\u001b[0mlegend\u001b[0m\u001b[0;34m)\u001b[0m\u001b[0;34m\u001b[0m\u001b[0;34m\u001b[0m\u001b[0m\n\u001b[1;32m   2690\u001b[0m \u001b[0;32mdef\u001b[0m \u001b[0mlegend\u001b[0m\u001b[0;34m(\u001b[0m\u001b[0;34m*\u001b[0m\u001b[0margs\u001b[0m\u001b[0;34m,\u001b[0m \u001b[0;34m**\u001b[0m\u001b[0mkwargs\u001b[0m\u001b[0;34m)\u001b[0m\u001b[0;34m:\u001b[0m\u001b[0;34m\u001b[0m\u001b[0;34m\u001b[0m\u001b[0m\n\u001b[0;32m-> 2691\u001b[0;31m     \u001b[0;32mreturn\u001b[0m \u001b[0mgca\u001b[0m\u001b[0;34m(\u001b[0m\u001b[0;34m)\u001b[0m\u001b[0;34m.\u001b[0m\u001b[0mlegend\u001b[0m\u001b[0;34m(\u001b[0m\u001b[0;34m*\u001b[0m\u001b[0margs\u001b[0m\u001b[0;34m,\u001b[0m \u001b[0;34m**\u001b[0m\u001b[0mkwargs\u001b[0m\u001b[0;34m)\u001b[0m\u001b[0;34m\u001b[0m\u001b[0;34m\u001b[0m\u001b[0m\n\u001b[0m\u001b[1;32m   2692\u001b[0m \u001b[0;34m\u001b[0m\u001b[0m\n\u001b[1;32m   2693\u001b[0m \u001b[0;34m\u001b[0m\u001b[0m\n",
          "\u001b[0;32m/opt/anaconda3/lib/python3.7/site-packages/matplotlib/axes/_axes.py\u001b[0m in \u001b[0;36mlegend\u001b[0;34m(self, *args, **kwargs)\u001b[0m\n\u001b[1;32m    404\u001b[0m         \u001b[0;32mif\u001b[0m \u001b[0mlen\u001b[0m\u001b[0;34m(\u001b[0m\u001b[0mextra_args\u001b[0m\u001b[0;34m)\u001b[0m\u001b[0;34m:\u001b[0m\u001b[0;34m\u001b[0m\u001b[0;34m\u001b[0m\u001b[0m\n\u001b[1;32m    405\u001b[0m             \u001b[0;32mraise\u001b[0m \u001b[0mTypeError\u001b[0m\u001b[0;34m(\u001b[0m\u001b[0;34m'legend only accepts two non-keyword arguments'\u001b[0m\u001b[0;34m)\u001b[0m\u001b[0;34m\u001b[0m\u001b[0;34m\u001b[0m\u001b[0m\n\u001b[0;32m--> 406\u001b[0;31m         \u001b[0mself\u001b[0m\u001b[0;34m.\u001b[0m\u001b[0mlegend_\u001b[0m \u001b[0;34m=\u001b[0m \u001b[0mmlegend\u001b[0m\u001b[0;34m.\u001b[0m\u001b[0mLegend\u001b[0m\u001b[0;34m(\u001b[0m\u001b[0mself\u001b[0m\u001b[0;34m,\u001b[0m \u001b[0mhandles\u001b[0m\u001b[0;34m,\u001b[0m \u001b[0mlabels\u001b[0m\u001b[0;34m,\u001b[0m \u001b[0;34m**\u001b[0m\u001b[0mkwargs\u001b[0m\u001b[0;34m)\u001b[0m\u001b[0;34m\u001b[0m\u001b[0;34m\u001b[0m\u001b[0m\n\u001b[0m\u001b[1;32m    407\u001b[0m         \u001b[0mself\u001b[0m\u001b[0;34m.\u001b[0m\u001b[0mlegend_\u001b[0m\u001b[0;34m.\u001b[0m\u001b[0m_remove_method\u001b[0m \u001b[0;34m=\u001b[0m \u001b[0mself\u001b[0m\u001b[0;34m.\u001b[0m\u001b[0m_remove_legend\u001b[0m\u001b[0;34m\u001b[0m\u001b[0;34m\u001b[0m\u001b[0m\n\u001b[1;32m    408\u001b[0m         \u001b[0;32mreturn\u001b[0m \u001b[0mself\u001b[0m\u001b[0;34m.\u001b[0m\u001b[0mlegend_\u001b[0m\u001b[0;34m\u001b[0m\u001b[0;34m\u001b[0m\u001b[0m\n",
          "\u001b[0;32m/opt/anaconda3/lib/python3.7/site-packages/matplotlib/legend.py\u001b[0m in \u001b[0;36m__init__\u001b[0;34m(self, parent, handles, labels, loc, numpoints, markerscale, markerfirst, scatterpoints, scatteryoffsets, prop, fontsize, borderpad, labelspacing, handlelength, handleheight, handletextpad, borderaxespad, columnspacing, ncol, mode, fancybox, shadow, title, title_fontsize, framealpha, edgecolor, facecolor, bbox_to_anchor, bbox_transform, frameon, handler_map)\u001b[0m\n\u001b[1;32m    573\u001b[0m \u001b[0;34m\u001b[0m\u001b[0m\n\u001b[1;32m    574\u001b[0m         \u001b[0;31m# init with null renderer\u001b[0m\u001b[0;34m\u001b[0m\u001b[0;34m\u001b[0m\u001b[0;34m\u001b[0m\u001b[0m\n\u001b[0;32m--> 575\u001b[0;31m         \u001b[0mself\u001b[0m\u001b[0;34m.\u001b[0m\u001b[0m_init_legend_box\u001b[0m\u001b[0;34m(\u001b[0m\u001b[0mhandles\u001b[0m\u001b[0;34m,\u001b[0m \u001b[0mlabels\u001b[0m\u001b[0;34m,\u001b[0m \u001b[0mmarkerfirst\u001b[0m\u001b[0;34m)\u001b[0m\u001b[0;34m\u001b[0m\u001b[0;34m\u001b[0m\u001b[0m\n\u001b[0m\u001b[1;32m    576\u001b[0m \u001b[0;34m\u001b[0m\u001b[0m\n\u001b[1;32m    577\u001b[0m         \u001b[0;31m# If shadow is activated use framealpha if not\u001b[0m\u001b[0;34m\u001b[0m\u001b[0;34m\u001b[0m\u001b[0;34m\u001b[0m\u001b[0m\n",
          "\u001b[0;32m/opt/anaconda3/lib/python3.7/site-packages/matplotlib/legend.py\u001b[0m in \u001b[0;36m_init_legend_box\u001b[0;34m(self, handles, labels, markerfirst)\u001b[0m\n\u001b[1;32m    831\u001b[0m                 \u001b[0;31m# original artist/handle.\u001b[0m\u001b[0;34m\u001b[0m\u001b[0;34m\u001b[0m\u001b[0;34m\u001b[0m\u001b[0m\n\u001b[1;32m    832\u001b[0m                 handle_list.append(handler.legend_artist(self, orig_handle,\n\u001b[0;32m--> 833\u001b[0;31m                                                          fontsize, handlebox))\n\u001b[0m\u001b[1;32m    834\u001b[0m                 \u001b[0mhandles_and_labels\u001b[0m\u001b[0;34m.\u001b[0m\u001b[0mappend\u001b[0m\u001b[0;34m(\u001b[0m\u001b[0;34m(\u001b[0m\u001b[0mhandlebox\u001b[0m\u001b[0;34m,\u001b[0m \u001b[0mtextbox\u001b[0m\u001b[0;34m)\u001b[0m\u001b[0;34m)\u001b[0m\u001b[0;34m\u001b[0m\u001b[0;34m\u001b[0m\u001b[0m\n\u001b[1;32m    835\u001b[0m \u001b[0;34m\u001b[0m\u001b[0m\n",
          "\u001b[0;32m/opt/anaconda3/lib/python3.7/site-packages/matplotlib/legend_handler.py\u001b[0m in \u001b[0;36mlegend_artist\u001b[0;34m(self, legend, orig_handle, fontsize, handlebox)\u001b[0m\n\u001b[1;32m    113\u001b[0m         artists = self.create_artists(legend, orig_handle,\n\u001b[1;32m    114\u001b[0m                                       \u001b[0mxdescent\u001b[0m\u001b[0;34m,\u001b[0m \u001b[0mydescent\u001b[0m\u001b[0;34m,\u001b[0m \u001b[0mwidth\u001b[0m\u001b[0;34m,\u001b[0m \u001b[0mheight\u001b[0m\u001b[0;34m,\u001b[0m\u001b[0;34m\u001b[0m\u001b[0;34m\u001b[0m\u001b[0m\n\u001b[0;32m--> 115\u001b[0;31m                                       fontsize, handlebox.get_transform())\n\u001b[0m\u001b[1;32m    116\u001b[0m \u001b[0;34m\u001b[0m\u001b[0m\n\u001b[1;32m    117\u001b[0m         \u001b[0;31m# create_artists will return a list of artists.\u001b[0m\u001b[0;34m\u001b[0m\u001b[0;34m\u001b[0m\u001b[0;34m\u001b[0m\u001b[0m\n",
          "\u001b[0;32m/opt/anaconda3/lib/python3.7/site-packages/matplotlib/legend_handler.py\u001b[0m in \u001b[0;36mcreate_artists\u001b[0;34m(self, legend, orig_handle, xdescent, ydescent, width, height, fontsize, trans)\u001b[0m\n\u001b[1;32m    297\u001b[0m         p = self._create_patch(legend, orig_handle,\n\u001b[1;32m    298\u001b[0m                                xdescent, ydescent, width, height, fontsize)\n\u001b[0;32m--> 299\u001b[0;31m         \u001b[0mself\u001b[0m\u001b[0;34m.\u001b[0m\u001b[0mupdate_prop\u001b[0m\u001b[0;34m(\u001b[0m\u001b[0mp\u001b[0m\u001b[0;34m,\u001b[0m \u001b[0morig_handle\u001b[0m\u001b[0;34m,\u001b[0m \u001b[0mlegend\u001b[0m\u001b[0;34m)\u001b[0m\u001b[0;34m\u001b[0m\u001b[0;34m\u001b[0m\u001b[0m\n\u001b[0m\u001b[1;32m    300\u001b[0m         \u001b[0mp\u001b[0m\u001b[0;34m.\u001b[0m\u001b[0mset_transform\u001b[0m\u001b[0;34m(\u001b[0m\u001b[0mtrans\u001b[0m\u001b[0;34m)\u001b[0m\u001b[0;34m\u001b[0m\u001b[0;34m\u001b[0m\u001b[0m\n\u001b[1;32m    301\u001b[0m         \u001b[0;32mreturn\u001b[0m \u001b[0;34m[\u001b[0m\u001b[0mp\u001b[0m\u001b[0;34m]\u001b[0m\u001b[0;34m\u001b[0m\u001b[0;34m\u001b[0m\u001b[0m\n",
          "\u001b[0;32m/opt/anaconda3/lib/python3.7/site-packages/matplotlib/legend_handler.py\u001b[0m in \u001b[0;36mupdate_prop\u001b[0;34m(self, legend_handle, orig_handle, legend)\u001b[0m\n\u001b[1;32m     70\u001b[0m     \u001b[0;32mdef\u001b[0m \u001b[0mupdate_prop\u001b[0m\u001b[0;34m(\u001b[0m\u001b[0mself\u001b[0m\u001b[0;34m,\u001b[0m \u001b[0mlegend_handle\u001b[0m\u001b[0;34m,\u001b[0m \u001b[0morig_handle\u001b[0m\u001b[0;34m,\u001b[0m \u001b[0mlegend\u001b[0m\u001b[0;34m)\u001b[0m\u001b[0;34m:\u001b[0m\u001b[0;34m\u001b[0m\u001b[0;34m\u001b[0m\u001b[0m\n\u001b[1;32m     71\u001b[0m \u001b[0;34m\u001b[0m\u001b[0m\n\u001b[0;32m---> 72\u001b[0;31m         \u001b[0mself\u001b[0m\u001b[0;34m.\u001b[0m\u001b[0m_update_prop\u001b[0m\u001b[0;34m(\u001b[0m\u001b[0mlegend_handle\u001b[0m\u001b[0;34m,\u001b[0m \u001b[0morig_handle\u001b[0m\u001b[0;34m)\u001b[0m\u001b[0;34m\u001b[0m\u001b[0;34m\u001b[0m\u001b[0m\n\u001b[0m\u001b[1;32m     73\u001b[0m \u001b[0;34m\u001b[0m\u001b[0m\n\u001b[1;32m     74\u001b[0m         \u001b[0mlegend\u001b[0m\u001b[0;34m.\u001b[0m\u001b[0m_set_artist_props\u001b[0m\u001b[0;34m(\u001b[0m\u001b[0mlegend_handle\u001b[0m\u001b[0;34m)\u001b[0m\u001b[0;34m\u001b[0m\u001b[0;34m\u001b[0m\u001b[0m\n",
          "\u001b[0;32m/opt/anaconda3/lib/python3.7/site-packages/matplotlib/legend_handler.py\u001b[0m in \u001b[0;36m_update_prop\u001b[0;34m(self, legend_handle, orig_handle)\u001b[0m\n\u001b[1;32m     63\u001b[0m             \u001b[0mself\u001b[0m\u001b[0;34m.\u001b[0m\u001b[0m_default_update_prop\u001b[0m\u001b[0;34m(\u001b[0m\u001b[0mlegend_handle\u001b[0m\u001b[0;34m,\u001b[0m \u001b[0morig_handle\u001b[0m\u001b[0;34m)\u001b[0m\u001b[0;34m\u001b[0m\u001b[0;34m\u001b[0m\u001b[0m\n\u001b[1;32m     64\u001b[0m         \u001b[0;32melse\u001b[0m\u001b[0;34m:\u001b[0m\u001b[0;34m\u001b[0m\u001b[0;34m\u001b[0m\u001b[0m\n\u001b[0;32m---> 65\u001b[0;31m             \u001b[0mself\u001b[0m\u001b[0;34m.\u001b[0m\u001b[0m_update_prop_func\u001b[0m\u001b[0;34m(\u001b[0m\u001b[0mlegend_handle\u001b[0m\u001b[0;34m,\u001b[0m \u001b[0morig_handle\u001b[0m\u001b[0;34m)\u001b[0m\u001b[0;34m\u001b[0m\u001b[0;34m\u001b[0m\u001b[0m\n\u001b[0m\u001b[1;32m     66\u001b[0m \u001b[0;34m\u001b[0m\u001b[0m\n\u001b[1;32m     67\u001b[0m     \u001b[0;32mdef\u001b[0m \u001b[0m_default_update_prop\u001b[0m\u001b[0;34m(\u001b[0m\u001b[0mself\u001b[0m\u001b[0;34m,\u001b[0m \u001b[0mlegend_handle\u001b[0m\u001b[0;34m,\u001b[0m \u001b[0morig_handle\u001b[0m\u001b[0;34m)\u001b[0m\u001b[0;34m:\u001b[0m\u001b[0;34m\u001b[0m\u001b[0;34m\u001b[0m\u001b[0m\n",
          "\u001b[0;32m/opt/anaconda3/lib/python3.7/site-packages/matplotlib/legend_handler.py\u001b[0m in \u001b[0;36mupdate_from_first_child\u001b[0;34m(tgt, src)\u001b[0m\n\u001b[1;32m     36\u001b[0m \u001b[0;34m\u001b[0m\u001b[0m\n\u001b[1;32m     37\u001b[0m \u001b[0;32mdef\u001b[0m \u001b[0mupdate_from_first_child\u001b[0m\u001b[0;34m(\u001b[0m\u001b[0mtgt\u001b[0m\u001b[0;34m,\u001b[0m \u001b[0msrc\u001b[0m\u001b[0;34m)\u001b[0m\u001b[0;34m:\u001b[0m\u001b[0;34m\u001b[0m\u001b[0;34m\u001b[0m\u001b[0m\n\u001b[0;32m---> 38\u001b[0;31m     \u001b[0mtgt\u001b[0m\u001b[0;34m.\u001b[0m\u001b[0mupdate_from\u001b[0m\u001b[0;34m(\u001b[0m\u001b[0msrc\u001b[0m\u001b[0;34m.\u001b[0m\u001b[0mget_children\u001b[0m\u001b[0;34m(\u001b[0m\u001b[0;34m)\u001b[0m\u001b[0;34m[\u001b[0m\u001b[0;36m0\u001b[0m\u001b[0;34m]\u001b[0m\u001b[0;34m)\u001b[0m\u001b[0;34m\u001b[0m\u001b[0;34m\u001b[0m\u001b[0m\n\u001b[0m\u001b[1;32m     39\u001b[0m \u001b[0;34m\u001b[0m\u001b[0m\n\u001b[1;32m     40\u001b[0m \u001b[0;34m\u001b[0m\u001b[0m\n",
          "\u001b[0;31mIndexError\u001b[0m: list index out of range"
         ]
        }
       ]
      }
     },
     "5c630ed8e8db4f409a3141db776fff7d": {
      "model_module": "@jupyter-widgets/controls",
      "model_module_version": "1.5.0",
      "model_name": "CheckboxModel",
      "state": {
       "description": "x",
       "disabled": false,
       "layout": "IPY_MODEL_2b8e573339844c578e56c18ed649cc9f",
       "style": "IPY_MODEL_f0cb99b92b684777a6828e60e63c6b0c",
       "value": true
      }
     },
     "5d7c46e6c1ae450d9c41456a14eb2478": {
      "model_module": "@jupyter-widgets/base",
      "model_module_version": "1.2.0",
      "model_name": "LayoutModel",
      "state": {}
     },
     "5df799b438e243afaa9751a57b0a037a": {
      "model_module": "@jupyter-widgets/controls",
      "model_module_version": "1.5.0",
      "model_name": "VBoxModel",
      "state": {
       "_dom_classes": [
        "widget-interact"
       ],
       "children": [
        "IPY_MODEL_c30dcc146d8d44eea8aafb9f2f4875b7",
        "IPY_MODEL_223397cd04e547efb94d140070704eaa"
       ],
       "layout": "IPY_MODEL_9ceb0eb6f20b4b579dddd7be4523e1c3"
      }
     },
     "5e924ecbc24a4e03b3c6ef3ec2be0728": {
      "model_module": "@jupyter-widgets/output",
      "model_module_version": "1.0.0",
      "model_name": "OutputModel",
      "state": {
       "layout": "IPY_MODEL_0d4e126607d641588a1717b8a91e2da1",
       "outputs": [
        {
         "name": "stdout",
         "output_type": "stream",
         "text": "graph1\n"
        }
       ]
      }
     },
     "5ec0e4d105b842a0a9d0c0cee505e6ec": {
      "model_module": "@jupyter-widgets/base",
      "model_module_version": "1.2.0",
      "model_name": "LayoutModel",
      "state": {}
     },
     "5f70596255284567815bf147cfbb80bb": {
      "model_module": "@jupyter-widgets/base",
      "model_module_version": "1.2.0",
      "model_name": "LayoutModel",
      "state": {}
     },
     "5fdc3df486db42609684e3e49d056171": {
      "model_module": "@jupyter-widgets/controls",
      "model_module_version": "1.5.0",
      "model_name": "DropdownModel",
      "state": {
       "_options_labels": [
        "1",
        "2"
       ],
       "description": "batch",
       "index": 0,
       "layout": "IPY_MODEL_639f0d70a58a4e73a3b0598dd356427b",
       "style": "IPY_MODEL_fd05e5c1500547369358c0318aa8eb93"
      }
     },
     "6027d94017c947ce9529b2185bd4341b": {
      "model_module": "@jupyter-widgets/controls",
      "model_module_version": "1.5.0",
      "model_name": "VBoxModel",
      "state": {
       "_dom_classes": [
        "widget-interact"
       ],
       "children": [
        "IPY_MODEL_1adaaec157dc4509aedae4c5bf72ddc3",
        "IPY_MODEL_8e7789e3bc2f44a68ee82eca25f80278",
        "IPY_MODEL_76daafe1eafa415b99dab5c3b9e8b714"
       ],
       "layout": "IPY_MODEL_84840b89515941fd9e36f3bd05e0d68e"
      }
     },
     "60649aa2265543089f0c338ae98d9672": {
      "model_module": "@jupyter-widgets/base",
      "model_module_version": "1.2.0",
      "model_name": "LayoutModel",
      "state": {}
     },
     "633ef4a6d7584a9797c0656cec4a7968": {
      "model_module": "@jupyter-widgets/base",
      "model_module_version": "1.2.0",
      "model_name": "LayoutModel",
      "state": {}
     },
     "63569cfa1b4a4ded8d7d406c281a80b1": {
      "model_module": "@jupyter-widgets/controls",
      "model_module_version": "1.5.0",
      "model_name": "DescriptionStyleModel",
      "state": {
       "description_width": ""
      }
     },
     "639da900c5584d6384304f3712affb91": {
      "model_module": "@jupyter-widgets/controls",
      "model_module_version": "1.5.0",
      "model_name": "DescriptionStyleModel",
      "state": {
       "description_width": ""
      }
     },
     "639f0d70a58a4e73a3b0598dd356427b": {
      "model_module": "@jupyter-widgets/base",
      "model_module_version": "1.2.0",
      "model_name": "LayoutModel",
      "state": {}
     },
     "65ea69ed552a4893b1d2d8d004eb1a34": {
      "model_module": "@jupyter-widgets/base",
      "model_module_version": "1.2.0",
      "model_name": "LayoutModel",
      "state": {}
     },
     "65fff88ea9904d3f9e6adf92389ee8ab": {
      "model_module": "@jupyter-widgets/controls",
      "model_module_version": "1.5.0",
      "model_name": "DescriptionStyleModel",
      "state": {
       "description_width": ""
      }
     },
     "66382220d466465ba7caea7fc2e3e577": {
      "model_module": "@jupyter-widgets/base",
      "model_module_version": "1.2.0",
      "model_name": "LayoutModel",
      "state": {}
     },
     "66ff3858ea474835a64d2472fbc3c755": {
      "model_module": "@jupyter-widgets/output",
      "model_module_version": "1.0.0",
      "model_name": "OutputModel",
      "state": {
       "layout": "IPY_MODEL_3bf0e80f979e4aa1a2664580c74cbabc",
       "outputs": [
        {
         "name": "stdout",
         "output_type": "stream",
         "text": "graph1\n"
        }
       ]
      }
     },
     "67883a298c324a82921456c9e41e1c48": {
      "model_module": "@jupyter-widgets/controls",
      "model_module_version": "1.5.0",
      "model_name": "DescriptionStyleModel",
      "state": {
       "description_width": ""
      }
     },
     "679c61923be04cb0b70d374adbe1f0a4": {
      "model_module": "@jupyter-widgets/base",
      "model_module_version": "1.2.0",
      "model_name": "LayoutModel",
      "state": {}
     },
     "69d37a1576dd4515aa4aa60db3ed41b6": {
      "model_module": "@jupyter-widgets/base",
      "model_module_version": "1.2.0",
      "model_name": "LayoutModel",
      "state": {}
     },
     "69d50404536240f2b25326a676b0c8b2": {
      "model_module": "@jupyter-widgets/controls",
      "model_module_version": "1.5.0",
      "model_name": "VBoxModel",
      "state": {
       "_dom_classes": [
        "widget-interact"
       ],
       "children": [
        "IPY_MODEL_2bfb2224a3c147c8b9115391402d50e0",
        "IPY_MODEL_0675e7fb0e764ba0a17b488373c6bfa0"
       ],
       "layout": "IPY_MODEL_bad8819d42044c0f8295a790478d6dd1"
      }
     },
     "6a2388090006438abb9bcf96914e94d3": {
      "model_module": "@jupyter-widgets/controls",
      "model_module_version": "1.5.0",
      "model_name": "DescriptionStyleModel",
      "state": {
       "description_width": ""
      }
     },
     "6c8e9af5aee548289a83eff1687cac30": {
      "model_module": "@jupyter-widgets/base",
      "model_module_version": "1.2.0",
      "model_name": "LayoutModel",
      "state": {}
     },
     "6dbfd1d424f54d56875868fb08103238": {
      "model_module": "@jupyter-widgets/controls",
      "model_module_version": "1.5.0",
      "model_name": "CheckboxModel",
      "state": {
       "description": "Check me",
       "disabled": false,
       "layout": "IPY_MODEL_9bd3ee74ae914b3b8ba97d582e3fcb7f",
       "style": "IPY_MODEL_63569cfa1b4a4ded8d7d406c281a80b1",
       "value": false
      }
     },
     "6e3526a6fc524a5d9d87dc8e806ba814": {
      "model_module": "@jupyter-widgets/output",
      "model_module_version": "1.0.0",
      "model_name": "OutputModel",
      "state": {
       "layout": "IPY_MODEL_15285d316e244232b0ed71bdf455ca8a",
       "outputs": [
        {
         "name": "stdout",
         "output_type": "stream",
         "text": "no graph\n"
        }
       ]
      }
     },
     "6f5347fc47b9491f9b424d2512d878d2": {
      "model_module": "@jupyter-widgets/output",
      "model_module_version": "1.0.0",
      "model_name": "OutputModel",
      "state": {
       "layout": "IPY_MODEL_7b74cdba92f1461795dc97e885a5da35",
       "outputs": [
        {
         "data": {
          "image/png": "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\n",
          "text/plain": "<Figure size 1800x504 with 1 Axes>"
         },
         "metadata": {
          "needs_background": "light"
         },
         "output_type": "display_data"
        }
       ]
      }
     },
     "6f7615dd873541d98e95c3d96d0f10bb": {
      "model_module": "@jupyter-widgets/controls",
      "model_module_version": "1.5.0",
      "model_name": "DropdownModel",
      "state": {
       "_options_labels": [
        "1",
        "2"
       ],
       "description": "batch",
       "index": 1,
       "layout": "IPY_MODEL_22ba549d43aa411189ab264305d1d37d",
       "style": "IPY_MODEL_67883a298c324a82921456c9e41e1c48"
      }
     },
     "71176cac91544b5f9c69523ffbc85338": {
      "model_module": "@jupyter-widgets/base",
      "model_module_version": "1.2.0",
      "model_name": "LayoutModel",
      "state": {}
     },
     "717acbdfdfc34f568b2734828615be04": {
      "model_module": "@jupyter-widgets/controls",
      "model_module_version": "1.5.0",
      "model_name": "VBoxModel",
      "state": {
       "_dom_classes": [
        "widget-interact"
       ],
       "children": [
        "IPY_MODEL_47c2cc1299ac493e879da3ca56248816",
        "IPY_MODEL_8ade7d9a1ce045248566816b0dbff2bc"
       ],
       "layout": "IPY_MODEL_e73d0f744c6549edbb65ab737777b655"
      }
     },
     "733825eaf5c84ee2a1d40a455ef61f09": {
      "model_module": "@jupyter-widgets/controls",
      "model_module_version": "1.5.0",
      "model_name": "DescriptionStyleModel",
      "state": {
       "description_width": ""
      }
     },
     "76daafe1eafa415b99dab5c3b9e8b714": {
      "model_module": "@jupyter-widgets/output",
      "model_module_version": "1.0.0",
      "model_name": "OutputModel",
      "state": {
       "layout": "IPY_MODEL_c34fb0343579421f9480b1b3e0fb3b6f",
       "outputs": [
        {
         "data": {
          "text/plain": "(True, 1.0)"
         },
         "metadata": {},
         "output_type": "display_data"
        }
       ]
      }
     },
     "76f8e7801a5c44e6a6571f8e74ab6886": {
      "model_module": "@jupyter-widgets/base",
      "model_module_version": "1.2.0",
      "model_name": "LayoutModel",
      "state": {}
     },
     "77a49370760f4556bd1ec435631a9bd6": {
      "model_module": "@jupyter-widgets/controls",
      "model_module_version": "1.5.0",
      "model_name": "DropdownModel",
      "state": {
       "_options_labels": [
        "one",
        "two"
       ],
       "description": "x",
       "index": 0,
       "layout": "IPY_MODEL_e5120088d82144f08bf6dab66f334d0b",
       "style": "IPY_MODEL_2b5d0b733a544adb853929a0d05eed42"
      }
     },
     "7908d90371fb449b90feca94a9facb3b": {
      "model_module": "@jupyter-widgets/controls",
      "model_module_version": "1.5.0",
      "model_name": "DropdownModel",
      "state": {
       "_options_labels": [
        "1",
        "2"
       ],
       "description": "batch",
       "index": 0,
       "layout": "IPY_MODEL_f61ed32a62284bcb9971b91fdc04a68e",
       "style": "IPY_MODEL_e53156f4aeef42d48cadeafbd8a97003"
      }
     },
     "7a2a951e533c471bb65f6fdf47ad1ef8": {
      "model_module": "@jupyter-widgets/base",
      "model_module_version": "1.2.0",
      "model_name": "LayoutModel",
      "state": {}
     },
     "7a9a28502cb942edbc5e5916ac26d1c6": {
      "model_module": "@jupyter-widgets/base",
      "model_module_version": "1.2.0",
      "model_name": "LayoutModel",
      "state": {}
     },
     "7b649184b6b449c0b4da14f0b476203e": {
      "model_module": "@jupyter-widgets/base",
      "model_module_version": "1.2.0",
      "model_name": "LayoutModel",
      "state": {}
     },
     "7b74cdba92f1461795dc97e885a5da35": {
      "model_module": "@jupyter-widgets/base",
      "model_module_version": "1.2.0",
      "model_name": "LayoutModel",
      "state": {}
     },
     "7b81dddda42b4970b1782298f4d8ebfe": {
      "model_module": "@jupyter-widgets/base",
      "model_module_version": "1.2.0",
      "model_name": "LayoutModel",
      "state": {}
     },
     "7ba02ffe7b23436ca056e9a2a01eebe8": {
      "model_module": "@jupyter-widgets/output",
      "model_module_version": "1.0.0",
      "model_name": "OutputModel",
      "state": {
       "layout": "IPY_MODEL_a97126a6b40b463cb625a52206a2f63c",
       "outputs": [
        {
         "data": {
          "image/png": "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\n",
          "text/plain": "<Figure size 1800x504 with 1 Axes>"
         },
         "metadata": {
          "needs_background": "light"
         },
         "output_type": "display_data"
        }
       ]
      }
     },
     "7d44c5de6a254474ae56c8d9815ae177": {
      "model_module": "@jupyter-widgets/controls",
      "model_module_version": "1.5.0",
      "model_name": "VBoxModel",
      "state": {
       "_dom_classes": [
        "widget-interact"
       ],
       "children": [
        "IPY_MODEL_6f7615dd873541d98e95c3d96d0f10bb",
        "IPY_MODEL_ec004db39f4b4c05a07145a90b8ab440"
       ],
       "layout": "IPY_MODEL_7a9a28502cb942edbc5e5916ac26d1c6"
      }
     },
     "7d709f5cd2904e9fa1265f74ffc6c471": {
      "model_module": "@jupyter-widgets/base",
      "model_module_version": "1.2.0",
      "model_name": "LayoutModel",
      "state": {}
     },
     "7df54bd67e0944b88738351b78a96d79": {
      "model_module": "@jupyter-widgets/controls",
      "model_module_version": "1.5.0",
      "model_name": "DropdownModel",
      "state": {
       "_options_labels": [
        "1",
        "2"
       ],
       "description": "batch",
       "index": 1,
       "layout": "IPY_MODEL_09434d8455a24cddbec2ea04bd1c9b5b",
       "style": "IPY_MODEL_f01181a657df4cb59b7b4bc080f0cdf9"
      }
     },
     "7e5e2806373044bfa466ee6f8d417f1e": {
      "model_module": "@jupyter-widgets/base",
      "model_module_version": "1.2.0",
      "model_name": "LayoutModel",
      "state": {}
     },
     "7fa75aebadd3494da73958b9daed6f4e": {
      "model_module": "@jupyter-widgets/base",
      "model_module_version": "1.2.0",
      "model_name": "LayoutModel",
      "state": {}
     },
     "8087d1d0b4574a169008d6ef663e07f8": {
      "model_module": "@jupyter-widgets/controls",
      "model_module_version": "1.5.0",
      "model_name": "VBoxModel",
      "state": {
       "_dom_classes": [
        "widget-interact"
       ],
       "children": [
        "IPY_MODEL_978c7a0b05c546d0b46f17639eb128ac",
        "IPY_MODEL_e350935f4c5f4c839b9733836657280c"
       ],
       "layout": "IPY_MODEL_e9351aa5d0734078b6b04b17bf9a1580"
      }
     },
     "808ca5de61e74aeaacf3b7b678d5d6b5": {
      "model_module": "@jupyter-widgets/base",
      "model_module_version": "1.2.0",
      "model_name": "LayoutModel",
      "state": {}
     },
     "82a51b13a9614017a266943a3cb1f113": {
      "model_module": "@jupyter-widgets/controls",
      "model_module_version": "1.5.0",
      "model_name": "VBoxModel",
      "state": {
       "_dom_classes": [
        "widget-interact"
       ],
       "children": [
        "IPY_MODEL_c348ab9a21c64a8185e9e2c86e15b9c8",
        "IPY_MODEL_0be774251f7b4ff382ea87e1300813e1"
       ],
       "layout": "IPY_MODEL_5626794eb81644f3ae56bdbcdd0b6c7f"
      }
     },
     "83643acf893a48d1aa52814f9db257ca": {
      "model_module": "@jupyter-widgets/controls",
      "model_module_version": "1.5.0",
      "model_name": "VBoxModel",
      "state": {
       "_dom_classes": [
        "widget-interact"
       ],
       "children": [
        "IPY_MODEL_90186b765dd748e2afd784d500e56011",
        "IPY_MODEL_b081df0ad05f48dea2268382b0a20612"
       ],
       "layout": "IPY_MODEL_3e59eb4c874a4708aae074a8cea51b98"
      }
     },
     "846fc904eb0646a19f6b1213c3defda0": {
      "model_module": "@jupyter-widgets/base",
      "model_module_version": "1.2.0",
      "model_name": "LayoutModel",
      "state": {}
     },
     "84840b89515941fd9e36f3bd05e0d68e": {
      "model_module": "@jupyter-widgets/base",
      "model_module_version": "1.2.0",
      "model_name": "LayoutModel",
      "state": {}
     },
     "84b9062ad7f8484683a8ea59d4e2cea5": {
      "model_module": "@jupyter-widgets/controls",
      "model_module_version": "1.5.0",
      "model_name": "VBoxModel",
      "state": {
       "_dom_classes": [
        "widget-interact"
       ],
       "children": [
        "IPY_MODEL_496de318275646a4b91f8ee1a7408634",
        "IPY_MODEL_9552482a144c4befb2e57d268b637759"
       ],
       "layout": "IPY_MODEL_fb0ce127aaae44889f8371d24a7cd164"
      }
     },
     "8701cd51f4814e93bbe7bf67fbcec619": {
      "model_module": "@jupyter-widgets/controls",
      "model_module_version": "1.5.0",
      "model_name": "DescriptionStyleModel",
      "state": {
       "description_width": ""
      }
     },
     "87420180db534b79ba0bfe28724ff273": {
      "model_module": "@jupyter-widgets/base",
      "model_module_version": "1.2.0",
      "model_name": "LayoutModel",
      "state": {}
     },
     "8760a59e5c854fc197bb87a6888729e1": {
      "model_module": "@jupyter-widgets/base",
      "model_module_version": "1.2.0",
      "model_name": "LayoutModel",
      "state": {}
     },
     "883a14ac14384cf5a9b697f38d547a5c": {
      "model_module": "@jupyter-widgets/base",
      "model_module_version": "1.2.0",
      "model_name": "LayoutModel",
      "state": {}
     },
     "884f71de24d54c86b0c0198587babfa8": {
      "model_module": "@jupyter-widgets/base",
      "model_module_version": "1.2.0",
      "model_name": "LayoutModel",
      "state": {}
     },
     "886cad3affbe4d69b06adebdcffec2fa": {
      "model_module": "@jupyter-widgets/controls",
      "model_module_version": "1.5.0",
      "model_name": "VBoxModel",
      "state": {
       "_dom_classes": [
        "widget-interact"
       ],
       "children": [
        "IPY_MODEL_5fdc3df486db42609684e3e49d056171",
        "IPY_MODEL_7ba02ffe7b23436ca056e9a2a01eebe8"
       ],
       "layout": "IPY_MODEL_8760a59e5c854fc197bb87a6888729e1"
      }
     },
     "890f1989812c4bf0b206ca93cda70cfd": {
      "model_module": "@jupyter-widgets/output",
      "model_module_version": "1.0.0",
      "model_name": "OutputModel",
      "state": {
       "layout": "IPY_MODEL_f5cbf958434e4571911f26406be8fe0a",
       "outputs": [
        {
         "name": "stdout",
         "output_type": "stream",
         "text": "graph1\n"
        }
       ]
      }
     },
     "89d55d274ae14f3d9465e1c96c547f6d": {
      "model_module": "@jupyter-widgets/base",
      "model_module_version": "1.2.0",
      "model_name": "LayoutModel",
      "state": {}
     },
     "8ade7d9a1ce045248566816b0dbff2bc": {
      "model_module": "@jupyter-widgets/output",
      "model_module_version": "1.0.0",
      "model_name": "OutputModel",
      "state": {
       "layout": "IPY_MODEL_4b1be0698c254b84902e1044071577b5",
       "outputs": [
        {
         "name": "stdout",
         "output_type": "stream",
         "text": "graph1\n"
        }
       ]
      }
     },
     "8cd1f06f637d4728a6fa2652bc53e357": {
      "model_module": "@jupyter-widgets/base",
      "model_module_version": "1.2.0",
      "model_name": "LayoutModel",
      "state": {}
     },
     "8dd83cae93724ee48f5675c9e04e922f": {
      "model_module": "@jupyter-widgets/base",
      "model_module_version": "1.2.0",
      "model_name": "LayoutModel",
      "state": {}
     },
     "8e7789e3bc2f44a68ee82eca25f80278": {
      "model_module": "@jupyter-widgets/controls",
      "model_module_version": "1.5.0",
      "model_name": "FloatSliderModel",
      "state": {
       "description": "y",
       "layout": "IPY_MODEL_3d34e3770d884ba7ba38d5a18d026e32",
       "max": 3,
       "min": -1,
       "step": 0.1,
       "style": "IPY_MODEL_933cc727b1f94cba8a46fd80e63e57b2",
       "value": 1
      }
     },
     "8e94acf6c26b4d46a0bddb9e9f27d332": {
      "model_module": "@jupyter-widgets/base",
      "model_module_version": "1.2.0",
      "model_name": "LayoutModel",
      "state": {}
     },
     "8f33f930905e4ab7a9725cea3c11c238": {
      "model_module": "@jupyter-widgets/controls",
      "model_module_version": "1.5.0",
      "model_name": "VBoxModel",
      "state": {
       "_dom_classes": [
        "widget-interact"
       ],
       "children": [
        "IPY_MODEL_b1b0ac995a294776943de48db2dc141b",
        "IPY_MODEL_c6161a8804d949aeb5372072e5acaba8"
       ],
       "layout": "IPY_MODEL_da52e4834f614ac2acfd1eda7dceb7ef"
      }
     },
     "8fdf270a0993491882b55fb795a70d7a": {
      "model_module": "@jupyter-widgets/output",
      "model_module_version": "1.0.0",
      "model_name": "OutputModel",
      "state": {
       "layout": "IPY_MODEL_cce14336eeaf43988eb2d28a94a20908",
       "outputs": [
        {
         "name": "stdout",
         "output_type": "stream",
         "text": "no graph\n"
        }
       ]
      }
     },
     "8ffc6ec66a694190b3a1fc4ff1f4c253": {
      "model_module": "@jupyter-widgets/controls",
      "model_module_version": "1.5.0",
      "model_name": "DescriptionStyleModel",
      "state": {
       "description_width": ""
      }
     },
     "90186b765dd748e2afd784d500e56011": {
      "model_module": "@jupyter-widgets/controls",
      "model_module_version": "1.5.0",
      "model_name": "DropdownModel",
      "state": {
       "_options_labels": [
        "1",
        "2"
       ],
       "description": "batch",
       "index": 0,
       "layout": "IPY_MODEL_0e6af51703564484a56a67d367d5190a",
       "style": "IPY_MODEL_41e7476dbead442d865000e985b18428"
      }
     },
     "905fa0b6faf54606a805e49261c76798": {
      "model_module": "@jupyter-widgets/base",
      "model_module_version": "1.2.0",
      "model_name": "LayoutModel",
      "state": {}
     },
     "91558087e240464f8ba145ac1a4fa3f6": {
      "model_module": "@jupyter-widgets/base",
      "model_module_version": "1.2.0",
      "model_name": "LayoutModel",
      "state": {}
     },
     "92c6a8e8652e4ab294dd97144fd59b3e": {
      "model_module": "@jupyter-widgets/controls",
      "model_module_version": "1.5.0",
      "model_name": "DescriptionStyleModel",
      "state": {
       "description_width": ""
      }
     },
     "92eb76c3abc64b799106b441c28aeffe": {
      "model_module": "@jupyter-widgets/base",
      "model_module_version": "1.2.0",
      "model_name": "LayoutModel",
      "state": {}
     },
     "9334f6a0367942f194ab98dae614bee0": {
      "model_module": "@jupyter-widgets/controls",
      "model_module_version": "1.5.0",
      "model_name": "VBoxModel",
      "state": {
       "_dom_classes": [
        "widget-interact"
       ],
       "layout": "IPY_MODEL_4dec19f2f2ba4f90b9c6cfa1c2113514"
      }
     },
     "933cc727b1f94cba8a46fd80e63e57b2": {
      "model_module": "@jupyter-widgets/controls",
      "model_module_version": "1.5.0",
      "model_name": "SliderStyleModel",
      "state": {
       "description_width": ""
      }
     },
     "938a596f4cd248bb959b2fa0ce2a9358": {
      "model_module": "@jupyter-widgets/controls",
      "model_module_version": "1.5.0",
      "model_name": "VBoxModel",
      "state": {
       "_dom_classes": [
        "widget-interact"
       ],
       "children": [
        "IPY_MODEL_f2f9b224db5a4d8d8231b1b109152731",
        "IPY_MODEL_98ebbbe3af114f0fb7cedba62880da2f"
       ],
       "layout": "IPY_MODEL_94214d3eb9d040ec8a5e73350b16f02d"
      }
     },
     "94214d3eb9d040ec8a5e73350b16f02d": {
      "model_module": "@jupyter-widgets/base",
      "model_module_version": "1.2.0",
      "model_name": "LayoutModel",
      "state": {}
     },
     "94354b80bb7642ebb2c43dbe3291bdb8": {
      "model_module": "@jupyter-widgets/controls",
      "model_module_version": "1.5.0",
      "model_name": "VBoxModel",
      "state": {
       "_dom_classes": [
        "widget-interact"
       ],
       "children": [
        "IPY_MODEL_e5064a3e4ead4e7faf0654ac6a81e7ce",
        "IPY_MODEL_3a67e12bfdc141a18a24d9118f239130"
       ],
       "layout": "IPY_MODEL_39c0312ca274422a8c90555196bb96cd"
      }
     },
     "9552482a144c4befb2e57d268b637759": {
      "model_module": "@jupyter-widgets/output",
      "model_module_version": "1.0.0",
      "model_name": "OutputModel",
      "state": {
       "layout": "IPY_MODEL_2725b77b0def4588abaa0cd9cf6f1c55",
       "outputs": [
        {
         "data": {
          "image/png": "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\n",
          "text/plain": "<Figure size 1800x504 with 1 Axes>"
         },
         "metadata": {
          "needs_background": "light"
         },
         "output_type": "display_data"
        }
       ]
      }
     },
     "978c7a0b05c546d0b46f17639eb128ac": {
      "model_module": "@jupyter-widgets/controls",
      "model_module_version": "1.5.0",
      "model_name": "TextModel",
      "state": {
       "description": "x",
       "layout": "IPY_MODEL_65ea69ed552a4893b1d2d8d004eb1a34",
       "style": "IPY_MODEL_012b6742ed38452c9eacec77e2560535",
       "value": "hihi"
      }
     },
     "98ebbbe3af114f0fb7cedba62880da2f": {
      "model_module": "@jupyter-widgets/output",
      "model_module_version": "1.0.0",
      "model_name": "OutputModel",
      "state": {
       "layout": "IPY_MODEL_fa1dc33e3dcb48ec9666fa7559c65c20",
       "outputs": [
        {
         "data": {
          "image/png": "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\n",
          "text/plain": "<Figure size 1800x504 with 1 Axes>"
         },
         "metadata": {
          "needs_background": "light"
         },
         "output_type": "display_data"
        }
       ]
      }
     },
     "9a090dc0d5974fa68d791f14b9722194": {
      "model_module": "@jupyter-widgets/base",
      "model_module_version": "1.2.0",
      "model_name": "LayoutModel",
      "state": {}
     },
     "9aaa642392264f44b2659f15c90fce3f": {
      "model_module": "@jupyter-widgets/base",
      "model_module_version": "1.2.0",
      "model_name": "LayoutModel",
      "state": {}
     },
     "9bd3ee74ae914b3b8ba97d582e3fcb7f": {
      "model_module": "@jupyter-widgets/base",
      "model_module_version": "1.2.0",
      "model_name": "LayoutModel",
      "state": {}
     },
     "9ceb0eb6f20b4b579dddd7be4523e1c3": {
      "model_module": "@jupyter-widgets/base",
      "model_module_version": "1.2.0",
      "model_name": "LayoutModel",
      "state": {}
     },
     "9fc2e6a1c4c04a22a099a2a09dc7fa06": {
      "model_module": "@jupyter-widgets/controls",
      "model_module_version": "1.5.0",
      "model_name": "VBoxModel",
      "state": {
       "_dom_classes": [
        "widget-interact"
       ],
       "layout": "IPY_MODEL_c3b4b86d0817419d987e1d0e8d5b4914"
      }
     },
     "a58445e5d689477ba7675b4023a6c107": {
      "model_module": "@jupyter-widgets/base",
      "model_module_version": "1.2.0",
      "model_name": "LayoutModel",
      "state": {}
     },
     "a8581f6421fe491eade2b531a6a745be": {
      "model_module": "@jupyter-widgets/base",
      "model_module_version": "1.2.0",
      "model_name": "LayoutModel",
      "state": {}
     },
     "a97126a6b40b463cb625a52206a2f63c": {
      "model_module": "@jupyter-widgets/base",
      "model_module_version": "1.2.0",
      "model_name": "LayoutModel",
      "state": {}
     },
     "ab1a4402a98b495dbdd3c4c2364fdcd5": {
      "model_module": "@jupyter-widgets/controls",
      "model_module_version": "1.5.0",
      "model_name": "DescriptionStyleModel",
      "state": {
       "description_width": ""
      }
     },
     "ac89d04c505746fb99280a477d389c70": {
      "model_module": "@jupyter-widgets/controls",
      "model_module_version": "1.5.0",
      "model_name": "DropdownModel",
      "state": {
       "_options_labels": [
        "one",
        "two"
       ],
       "description": "x",
       "index": 0,
       "layout": "IPY_MODEL_df03cd86160d4909b3e9840117710168",
       "style": "IPY_MODEL_b452460956a144db9e3ae9c15f956ffd"
      }
     },
     "ad4485661c4e4d7e8dee338b2ea672df": {
      "model_module": "@jupyter-widgets/output",
      "model_module_version": "1.0.0",
      "model_name": "OutputModel",
      "state": {
       "layout": "IPY_MODEL_884f71de24d54c86b0c0198587babfa8",
       "outputs": [
        {
         "name": "stderr",
         "output_type": "stream",
         "text": "findfont: Font family ['Roboto'] not found. Falling back to DejaVu Sans.\n"
        },
        {
         "data": {
          "image/png": "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\n",
          "text/plain": "<Figure size 1800x504 with 1 Axes>"
         },
         "metadata": {
          "needs_background": "light"
         },
         "output_type": "display_data"
        }
       ]
      }
     },
     "afd6641b23f34e31981179988ac1827e": {
      "model_module": "@jupyter-widgets/controls",
      "model_module_version": "1.5.0",
      "model_name": "CheckboxModel",
      "state": {
       "description": "x",
       "disabled": false,
       "layout": "IPY_MODEL_89d55d274ae14f3d9465e1c96c547f6d",
       "style": "IPY_MODEL_f225aa2e2f2b41c3a131f7c17454f71d",
       "value": true
      }
     },
     "b081df0ad05f48dea2268382b0a20612": {
      "model_module": "@jupyter-widgets/output",
      "model_module_version": "1.0.0",
      "model_name": "OutputModel",
      "state": {
       "layout": "IPY_MODEL_883a14ac14384cf5a9b697f38d547a5c",
       "outputs": [
        {
         "data": {
          "image/png": "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\n",
          "text/plain": "<Figure size 1800x504 with 1 Axes>"
         },
         "metadata": {
          "needs_background": "light"
         },
         "output_type": "display_data"
        }
       ]
      }
     },
     "b1b0ac995a294776943de48db2dc141b": {
      "model_module": "@jupyter-widgets/controls",
      "model_module_version": "1.5.0",
      "model_name": "DropdownModel",
      "state": {
       "_options_labels": [
        "1",
        "2"
       ],
       "description": "batch",
       "index": 0,
       "layout": "IPY_MODEL_f91e3006455d43fc991b19755ab8797c",
       "style": "IPY_MODEL_c3f8a03172944cf195112c52c0e218b4"
      }
     },
     "b1dd4725e1114f56b9fc942b38e30008": {
      "model_module": "@jupyter-widgets/controls",
      "model_module_version": "1.5.0",
      "model_name": "VBoxModel",
      "state": {
       "_dom_classes": [
        "widget-interact"
       ],
       "children": [
        "IPY_MODEL_3864577ee00f4d9fa27dee3f639d1a66",
        "IPY_MODEL_890f1989812c4bf0b206ca93cda70cfd"
       ],
       "layout": "IPY_MODEL_10230a6c9b4c4cb8aa4454a0048d68d2"
      }
     },
     "b313eb63eb3445118fca1fb4b9a16982": {
      "model_module": "@jupyter-widgets/output",
      "model_module_version": "1.0.0",
      "model_name": "OutputModel",
      "state": {
       "layout": "IPY_MODEL_9aaa642392264f44b2659f15c90fce3f",
       "outputs": [
        {
         "data": {
          "text/plain": "True"
         },
         "metadata": {},
         "output_type": "display_data"
        }
       ]
      }
     },
     "b452460956a144db9e3ae9c15f956ffd": {
      "model_module": "@jupyter-widgets/controls",
      "model_module_version": "1.5.0",
      "model_name": "DescriptionStyleModel",
      "state": {
       "description_width": ""
      }
     },
     "b4f310417ee64cd198548ce971279b9f": {
      "model_module": "@jupyter-widgets/base",
      "model_module_version": "1.2.0",
      "model_name": "LayoutModel",
      "state": {}
     },
     "b605312ab8b44e999365ec40d68c4e01": {
      "model_module": "@jupyter-widgets/controls",
      "model_module_version": "1.5.0",
      "model_name": "VBoxModel",
      "state": {
       "_dom_classes": [
        "widget-interact"
       ],
       "children": [
        "IPY_MODEL_77a49370760f4556bd1ec435631a9bd6",
        "IPY_MODEL_6e3526a6fc524a5d9d87dc8e806ba814"
       ],
       "layout": "IPY_MODEL_20761627c1e048939511ba8885b2abe3"
      }
     },
     "b75767f373a5416887260750e165f317": {
      "model_module": "@jupyter-widgets/controls",
      "model_module_version": "1.5.0",
      "model_name": "CheckboxModel",
      "state": {
       "description": "Check me",
       "disabled": false,
       "layout": "IPY_MODEL_7d709f5cd2904e9fa1265f74ffc6c471",
       "style": "IPY_MODEL_8ffc6ec66a694190b3a1fc4ff1f4c253",
       "value": false
      }
     },
     "b8061eef55214d73acfdbfa749d8cca7": {
      "model_module": "@jupyter-widgets/controls",
      "model_module_version": "1.5.0",
      "model_name": "DescriptionStyleModel",
      "state": {
       "description_width": ""
      }
     },
     "b832e141a7fc42b58eac334f88e3b1f6": {
      "model_module": "@jupyter-widgets/controls",
      "model_module_version": "1.5.0",
      "model_name": "VBoxModel",
      "state": {
       "_dom_classes": [
        "widget-interact"
       ],
       "children": [
        "IPY_MODEL_0cf19d858dd345f1947fdbae74d57def",
        "IPY_MODEL_12bf5d197c084d86846ab667d2cd89bd"
       ],
       "layout": "IPY_MODEL_088b1745a7fd48e6a2c44f057ff86165"
      }
     },
     "bad8819d42044c0f8295a790478d6dd1": {
      "model_module": "@jupyter-widgets/base",
      "model_module_version": "1.2.0",
      "model_name": "LayoutModel",
      "state": {}
     },
     "bb23845dd875430fb8c957576d6911b7": {
      "model_module": "@jupyter-widgets/base",
      "model_module_version": "1.2.0",
      "model_name": "LayoutModel",
      "state": {}
     },
     "bbc60ece6e004d518c96e03517c449b0": {
      "model_module": "@jupyter-widgets/base",
      "model_module_version": "1.2.0",
      "model_name": "LayoutModel",
      "state": {}
     },
     "bcabfbaa5c554c11b354a188b43cc391": {
      "model_module": "@jupyter-widgets/base",
      "model_module_version": "1.2.0",
      "model_name": "LayoutModel",
      "state": {}
     },
     "bd79fff840be4e06a0ec19397263ae6d": {
      "model_module": "@jupyter-widgets/base",
      "model_module_version": "1.2.0",
      "model_name": "LayoutModel",
      "state": {}
     },
     "bdaf98e7613a48e0a85f89a382acb9e6": {
      "model_module": "@jupyter-widgets/base",
      "model_module_version": "1.2.0",
      "model_name": "LayoutModel",
      "state": {}
     },
     "bdcbd642a75a40d5bed7ecd5d029ff11": {
      "model_module": "@jupyter-widgets/base",
      "model_module_version": "1.2.0",
      "model_name": "LayoutModel",
      "state": {}
     },
     "bec237a4762241e98f1280233e06361c": {
      "model_module": "@jupyter-widgets/base",
      "model_module_version": "1.2.0",
      "model_name": "LayoutModel",
      "state": {}
     },
     "c00c6bb1fa5048d58dd45cc9060cdf37": {
      "model_module": "@jupyter-widgets/base",
      "model_module_version": "1.2.0",
      "model_name": "LayoutModel",
      "state": {}
     },
     "c2e7aa2213824913ab7230d8dae0106a": {
      "model_module": "@jupyter-widgets/controls",
      "model_module_version": "1.5.0",
      "model_name": "CheckboxModel",
      "state": {
       "description": "Check me",
       "disabled": false,
       "layout": "IPY_MODEL_57cf75a6fc3349f28b9b09ee8f1f889a",
       "style": "IPY_MODEL_8701cd51f4814e93bbe7bf67fbcec619",
       "value": false
      }
     },
     "c30dcc146d8d44eea8aafb9f2f4875b7": {
      "model_module": "@jupyter-widgets/controls",
      "model_module_version": "1.5.0",
      "model_name": "CheckboxModel",
      "state": {
       "description": "x",
       "disabled": false,
       "layout": "IPY_MODEL_8e94acf6c26b4d46a0bddb9e9f27d332",
       "style": "IPY_MODEL_733825eaf5c84ee2a1d40a455ef61f09",
       "value": false
      }
     },
     "c348ab9a21c64a8185e9e2c86e15b9c8": {
      "model_module": "@jupyter-widgets/controls",
      "model_module_version": "1.5.0",
      "model_name": "DropdownModel",
      "state": {
       "_options_labels": [
        "1",
        "2"
       ],
       "description": "batch",
       "index": 0,
       "layout": "IPY_MODEL_7b81dddda42b4970b1782298f4d8ebfe",
       "style": "IPY_MODEL_e704d074aca944d0afd68f7d5e0ade47"
      }
     },
     "c34fb0343579421f9480b1b3e0fb3b6f": {
      "model_module": "@jupyter-widgets/base",
      "model_module_version": "1.2.0",
      "model_name": "LayoutModel",
      "state": {}
     },
     "c391c99d724642908135df5850a2ab8e": {
      "model_module": "@jupyter-widgets/controls",
      "model_module_version": "1.5.0",
      "model_name": "CheckboxModel",
      "state": {
       "description": "x",
       "disabled": false,
       "layout": "IPY_MODEL_c00c6bb1fa5048d58dd45cc9060cdf37",
       "style": "IPY_MODEL_1bd12acbaf544e60a13673ff667e41a3",
       "value": true
      }
     },
     "c3b4b86d0817419d987e1d0e8d5b4914": {
      "model_module": "@jupyter-widgets/base",
      "model_module_version": "1.2.0",
      "model_name": "LayoutModel",
      "state": {}
     },
     "c3f8a03172944cf195112c52c0e218b4": {
      "model_module": "@jupyter-widgets/controls",
      "model_module_version": "1.5.0",
      "model_name": "DescriptionStyleModel",
      "state": {
       "description_width": ""
      }
     },
     "c4c85504a5724e1f85fc21b9826351b2": {
      "model_module": "@jupyter-widgets/base",
      "model_module_version": "1.2.0",
      "model_name": "LayoutModel",
      "state": {}
     },
     "c4f6a47899ef428aa590aa4631bd0021": {
      "model_module": "@jupyter-widgets/controls",
      "model_module_version": "1.5.0",
      "model_name": "CheckboxModel",
      "state": {
       "description": "Check me",
       "disabled": false,
       "layout": "IPY_MODEL_309a6ff0843b4fcb91685fd72919c832",
       "style": "IPY_MODEL_f31fcdad19ff4c26b653744ce513795b",
       "value": true
      }
     },
     "c6161a8804d949aeb5372072e5acaba8": {
      "model_module": "@jupyter-widgets/output",
      "model_module_version": "1.0.0",
      "model_name": "OutputModel",
      "state": {
       "layout": "IPY_MODEL_3a3ce636e96a49eaa1be22ded86bf980",
       "outputs": [
        {
         "data": {
          "image/png": "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\n",
          "text/plain": "<Figure size 1800x504 with 1 Axes>"
         },
         "metadata": {
          "needs_background": "light"
         },
         "output_type": "display_data"
        }
       ]
      }
     },
     "c66e4c313d15440f9bda77757b094d38": {
      "model_module": "@jupyter-widgets/base",
      "model_module_version": "1.2.0",
      "model_name": "LayoutModel",
      "state": {}
     },
     "c720488bd07b4bd388ba9f7c1355e98b": {
      "model_module": "@jupyter-widgets/controls",
      "model_module_version": "1.5.0",
      "model_name": "DropdownModel",
      "state": {
       "_options_labels": [
        "1",
        "2"
       ],
       "description": "batch",
       "index": 0,
       "layout": "IPY_MODEL_66382220d466465ba7caea7fc2e3e577",
       "style": "IPY_MODEL_f479bda1a7dd432e87b06229693d0d59"
      }
     },
     "c7975cdc899c485397b3de752d418f3d": {
      "model_module": "@jupyter-widgets/controls",
      "model_module_version": "1.5.0",
      "model_name": "VBoxModel",
      "state": {
       "_dom_classes": [
        "widget-interact"
       ],
       "children": [
        "IPY_MODEL_2a743944bc6646579095bef0f186a6e2",
        "IPY_MODEL_f4e4880824ce4fd9b3df7ec4dab1954b"
       ],
       "layout": "IPY_MODEL_3b6fe286d36d4d7789be0271bab02e4b"
      }
     },
     "cb1f0af8daa142b480ab508d849a5c6a": {
      "model_module": "@jupyter-widgets/base",
      "model_module_version": "1.2.0",
      "model_name": "LayoutModel",
      "state": {}
     },
     "cb861d193c17426282a419407d4776f7": {
      "model_module": "@jupyter-widgets/controls",
      "model_module_version": "1.5.0",
      "model_name": "DescriptionStyleModel",
      "state": {
       "description_width": ""
      }
     },
     "cb9e48a411d64ce4be78f209f7dc8409": {
      "model_module": "@jupyter-widgets/base",
      "model_module_version": "1.2.0",
      "model_name": "LayoutModel",
      "state": {}
     },
     "cc543209d2e646bebf02f5aeedf4e117": {
      "model_module": "@jupyter-widgets/controls",
      "model_module_version": "1.5.0",
      "model_name": "CheckboxModel",
      "state": {
       "description": "Check me",
       "disabled": false,
       "layout": "IPY_MODEL_ff42122718e744bd82fb7aa554256bc3",
       "style": "IPY_MODEL_f7620b6d88c34b8a89870c878cdd2fd9",
       "value": false
      }
     },
     "ccd197ea90a744c7a5daf6dc1a5e5d68": {
      "model_module": "@jupyter-widgets/base",
      "model_module_version": "1.2.0",
      "model_name": "LayoutModel",
      "state": {}
     },
     "cce14336eeaf43988eb2d28a94a20908": {
      "model_module": "@jupyter-widgets/base",
      "model_module_version": "1.2.0",
      "model_name": "LayoutModel",
      "state": {}
     },
     "ceab91137d57428ca07a89b294d92a44": {
      "model_module": "@jupyter-widgets/controls",
      "model_module_version": "1.5.0",
      "model_name": "VBoxModel",
      "state": {
       "_dom_classes": [
        "widget-interact"
       ],
       "children": [
        "IPY_MODEL_207e8c8f451a4c6e951d7f3fa5e1fa73",
        "IPY_MODEL_db1e9ffe99304f63976853e374e5425b"
       ],
       "layout": "IPY_MODEL_69d37a1576dd4515aa4aa60db3ed41b6"
      }
     },
     "cf29ab6fbb5540d8819e1c2656627fb8": {
      "model_module": "@jupyter-widgets/controls",
      "model_module_version": "1.5.0",
      "model_name": "VBoxModel",
      "state": {
       "_dom_classes": [
        "widget-interact"
       ],
       "children": [
        "IPY_MODEL_f73b3d9d7cce4710b38e269e61d0cc58",
        "IPY_MODEL_fdc765a2994041e29429442de4354ed5"
       ],
       "layout": "IPY_MODEL_8cd1f06f637d4728a6fa2652bc53e357"
      }
     },
     "cfc429a9d09c4b1f928d200ab661266d": {
      "model_module": "@jupyter-widgets/base",
      "model_module_version": "1.2.0",
      "model_name": "LayoutModel",
      "state": {}
     },
     "cfe3ea93d4604717a3ccff78510e3ae6": {
      "model_module": "@jupyter-widgets/controls",
      "model_module_version": "1.5.0",
      "model_name": "DescriptionStyleModel",
      "state": {
       "description_width": ""
      }
     },
     "d04643d3c30243b0989ab8657aa5f3e1": {
      "model_module": "@jupyter-widgets/controls",
      "model_module_version": "1.5.0",
      "model_name": "VBoxModel",
      "state": {
       "_dom_classes": [
        "widget-interact"
       ],
       "children": [
        "IPY_MODEL_e6237f24218b4104b85622fe856593c1",
        "IPY_MODEL_3a5120ed553940528f65d112cc509b7b"
       ],
       "layout": "IPY_MODEL_37ad542a34b94e49ad829db0f618126b"
      }
     },
     "d0be1a77b9984c9798d52c6a5d66bb8f": {
      "model_module": "@jupyter-widgets/controls",
      "model_module_version": "1.5.0",
      "model_name": "DescriptionStyleModel",
      "state": {
       "description_width": ""
      }
     },
     "d3098fcf966e4d74b88e519f75e6aa8d": {
      "model_module": "@jupyter-widgets/controls",
      "model_module_version": "1.5.0",
      "model_name": "DropdownModel",
      "state": {
       "_options_labels": [
        "1",
        "2"
       ],
       "description": "batch",
       "index": 0,
       "layout": "IPY_MODEL_71176cac91544b5f9c69523ffbc85338",
       "style": "IPY_MODEL_253538a3e11742b6a7e96f17e2419374"
      }
     },
     "d6b659f127ea42b39e82e28d44042e47": {
      "model_module": "@jupyter-widgets/output",
      "model_module_version": "1.0.0",
      "model_name": "OutputModel",
      "state": {
       "layout": "IPY_MODEL_0fb961a671114f0ea0da08b8c9739042",
       "outputs": [
        {
         "data": {
          "image/png": "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\n",
          "text/plain": "<Figure size 1800x504 with 1 Axes>"
         },
         "metadata": {
          "needs_background": "light"
         },
         "output_type": "display_data"
        }
       ]
      }
     },
     "d819c08bad064ead83f8137af38b5c61": {
      "model_module": "@jupyter-widgets/controls",
      "model_module_version": "1.5.0",
      "model_name": "VBoxModel",
      "state": {
       "_dom_classes": [
        "widget-interact"
       ],
       "children": [
        "IPY_MODEL_7df54bd67e0944b88738351b78a96d79",
        "IPY_MODEL_0d0cbed3ed9849eba018c17f80a01431"
       ],
       "layout": "IPY_MODEL_037d7fc24c154679bc7963f9070b8c19"
      }
     },
     "d85378349ca74c5f80de86e77f6b0131": {
      "model_module": "@jupyter-widgets/controls",
      "model_module_version": "1.5.0",
      "model_name": "VBoxModel",
      "state": {
       "_dom_classes": [
        "widget-interact"
       ],
       "children": [
        "IPY_MODEL_fd064d4d9f5544ac8e8aaf51752d3e95",
        "IPY_MODEL_5be6c655bb7e4479ad2a49b0e8bedc64"
       ],
       "layout": "IPY_MODEL_6c8e9af5aee548289a83eff1687cac30"
      }
     },
     "da52e4834f614ac2acfd1eda7dceb7ef": {
      "model_module": "@jupyter-widgets/base",
      "model_module_version": "1.2.0",
      "model_name": "LayoutModel",
      "state": {}
     },
     "db1e9ffe99304f63976853e374e5425b": {
      "model_module": "@jupyter-widgets/output",
      "model_module_version": "1.0.0",
      "model_name": "OutputModel",
      "state": {
       "layout": "IPY_MODEL_60649aa2265543089f0c338ae98d9672",
       "outputs": [
        {
         "name": "stdout",
         "output_type": "stream",
         "text": "graph1\n"
        }
       ]
      }
     },
     "db39c68814ae419fa4cce72299038b7e": {
      "model_module": "@jupyter-widgets/controls",
      "model_module_version": "1.5.0",
      "model_name": "VBoxModel",
      "state": {
       "_dom_classes": [
        "widget-interact"
       ],
       "children": [
        "IPY_MODEL_48f3f15891c84d71a3cb1c3ca9913718",
        "IPY_MODEL_dfe749f1a7bc4be1882e3f7e1fabd196"
       ],
       "layout": "IPY_MODEL_bb23845dd875430fb8c957576d6911b7"
      }
     },
     "dba8c8ef6fd141b497bc9e476bfa4517": {
      "model_module": "@jupyter-widgets/controls",
      "model_module_version": "1.5.0",
      "model_name": "VBoxModel",
      "state": {
       "_dom_classes": [
        "widget-interact"
       ],
       "children": [
        "IPY_MODEL_1054d787771d4c8590368964b29d67f1",
        "IPY_MODEL_45a5cbb3ed0b4a84bb30735575300345"
       ],
       "layout": "IPY_MODEL_76f8e7801a5c44e6a6571f8e74ab6886"
      }
     },
     "dcd71d7ff7254836bb1918ae30ac2cb1": {
      "model_module": "@jupyter-widgets/base",
      "model_module_version": "1.2.0",
      "model_name": "LayoutModel",
      "state": {}
     },
     "dddc1805aba94f6e89a3f78f22e8836f": {
      "model_module": "@jupyter-widgets/controls",
      "model_module_version": "1.5.0",
      "model_name": "VBoxModel",
      "state": {
       "_dom_classes": [
        "widget-interact"
       ],
       "children": [
        "IPY_MODEL_7908d90371fb449b90feca94a9facb3b",
        "IPY_MODEL_6f5347fc47b9491f9b424d2512d878d2"
       ],
       "layout": "IPY_MODEL_87420180db534b79ba0bfe28724ff273"
      }
     },
     "df03cd86160d4909b3e9840117710168": {
      "model_module": "@jupyter-widgets/base",
      "model_module_version": "1.2.0",
      "model_name": "LayoutModel",
      "state": {}
     },
     "dfe749f1a7bc4be1882e3f7e1fabd196": {
      "model_module": "@jupyter-widgets/output",
      "model_module_version": "1.0.0",
      "model_name": "OutputModel",
      "state": {
       "layout": "IPY_MODEL_7a2a951e533c471bb65f6fdf47ad1ef8",
       "outputs": [
        {
         "data": {
          "image/png": "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\n",
          "text/plain": "<Figure size 1800x504 with 1 Axes>"
         },
         "metadata": {
          "needs_background": "light"
         },
         "output_type": "display_data"
        }
       ]
      }
     },
     "e0990d181fbd4f2a86f750cf29ea9391": {
      "model_module": "@jupyter-widgets/controls",
      "model_module_version": "1.5.0",
      "model_name": "VBoxModel",
      "state": {
       "_dom_classes": [
        "widget-interact"
       ],
       "children": [
        "IPY_MODEL_55493195d0ef4acf898ac7bc5f8e7dae",
        "IPY_MODEL_5e924ecbc24a4e03b3c6ef3ec2be0728"
       ],
       "layout": "IPY_MODEL_7fa75aebadd3494da73958b9daed6f4e"
      }
     },
     "e1d64a45b4de496db376c56dfd2b9019": {
      "model_module": "@jupyter-widgets/base",
      "model_module_version": "1.2.0",
      "model_name": "LayoutModel",
      "state": {}
     },
     "e1f7fbee62ba452ea8ffe55483f2f944": {
      "model_module": "@jupyter-widgets/base",
      "model_module_version": "1.2.0",
      "model_name": "LayoutModel",
      "state": {}
     },
     "e219baf5ef4a41949ca0ad4c088aa011": {
      "model_module": "@jupyter-widgets/controls",
      "model_module_version": "1.5.0",
      "model_name": "VBoxModel",
      "state": {
       "_dom_classes": [
        "widget-interact"
       ],
       "children": [
        "IPY_MODEL_ac89d04c505746fb99280a477d389c70",
        "IPY_MODEL_8fdf270a0993491882b55fb795a70d7a"
       ],
       "layout": "IPY_MODEL_fcb36c31d51a45fca1047e8b90b36ee5"
      }
     },
     "e25b1cd48ed546c6a610dadf10794c25": {
      "model_module": "@jupyter-widgets/controls",
      "model_module_version": "1.5.0",
      "model_name": "DescriptionStyleModel",
      "state": {
       "description_width": ""
      }
     },
     "e350935f4c5f4c839b9733836657280c": {
      "model_module": "@jupyter-widgets/output",
      "model_module_version": "1.0.0",
      "model_name": "OutputModel",
      "state": {
       "layout": "IPY_MODEL_cb1f0af8daa142b480ab508d849a5c6a"
      }
     },
     "e3e70128019c4f3db70cda51954267f2": {
      "model_module": "@jupyter-widgets/controls",
      "model_module_version": "1.5.0",
      "model_name": "DropdownModel",
      "state": {
       "_options_labels": [
        "1",
        "2",
        "3"
       ],
       "description": "x",
       "index": 0,
       "layout": "IPY_MODEL_1013c0727ed643849a305746a2a50491",
       "style": "IPY_MODEL_65fff88ea9904d3f9e6adf92389ee8ab"
      }
     },
     "e5064a3e4ead4e7faf0654ac6a81e7ce": {
      "model_module": "@jupyter-widgets/controls",
      "model_module_version": "1.5.0",
      "model_name": "CheckboxModel",
      "state": {
       "description": "x",
       "disabled": false,
       "layout": "IPY_MODEL_39e162ec42704a65841f36fa03460cda",
       "style": "IPY_MODEL_1afc544d947e4e0cb261f3aa0b3ce356",
       "value": false
      }
     },
     "e5120088d82144f08bf6dab66f334d0b": {
      "model_module": "@jupyter-widgets/base",
      "model_module_version": "1.2.0",
      "model_name": "LayoutModel",
      "state": {}
     },
     "e53156f4aeef42d48cadeafbd8a97003": {
      "model_module": "@jupyter-widgets/controls",
      "model_module_version": "1.5.0",
      "model_name": "DescriptionStyleModel",
      "state": {
       "description_width": ""
      }
     },
     "e5335b7e637b42ee8e1ef78cbe30ae0a": {
      "model_module": "@jupyter-widgets/controls",
      "model_module_version": "1.5.0",
      "model_name": "SliderStyleModel",
      "state": {
       "description_width": ""
      }
     },
     "e6237f24218b4104b85622fe856593c1": {
      "model_module": "@jupyter-widgets/controls",
      "model_module_version": "1.5.0",
      "model_name": "DropdownModel",
      "state": {
       "_options_labels": [
        "one",
        "two"
       ],
       "description": "x",
       "index": 0,
       "layout": "IPY_MODEL_44d0148beda5468cb29956bbeb282082",
       "style": "IPY_MODEL_3944ff230b3e4a91928f479bb0ad786a"
      }
     },
     "e704d074aca944d0afd68f7d5e0ade47": {
      "model_module": "@jupyter-widgets/controls",
      "model_module_version": "1.5.0",
      "model_name": "DescriptionStyleModel",
      "state": {
       "description_width": ""
      }
     },
     "e73d0f744c6549edbb65ab737777b655": {
      "model_module": "@jupyter-widgets/base",
      "model_module_version": "1.2.0",
      "model_name": "LayoutModel",
      "state": {}
     },
     "e9351aa5d0734078b6b04b17bf9a1580": {
      "model_module": "@jupyter-widgets/base",
      "model_module_version": "1.2.0",
      "model_name": "LayoutModel",
      "state": {}
     },
     "e9fa08f942864bb28f6870fe2ae6780a": {
      "model_module": "@jupyter-widgets/controls",
      "model_module_version": "1.5.0",
      "model_name": "VBoxModel",
      "state": {
       "_dom_classes": [
        "widget-interact"
       ],
       "children": [
        "IPY_MODEL_c720488bd07b4bd388ba9f7c1355e98b",
        "IPY_MODEL_d6b659f127ea42b39e82e28d44042e47"
       ],
       "layout": "IPY_MODEL_c66e4c313d15440f9bda77757b094d38"
      }
     },
     "eb85e52c1a1f4cac97b71e9675fb927b": {
      "model_module": "@jupyter-widgets/controls",
      "model_module_version": "1.5.0",
      "model_name": "DescriptionStyleModel",
      "state": {
       "description_width": ""
      }
     },
     "ec004db39f4b4c05a07145a90b8ab440": {
      "model_module": "@jupyter-widgets/output",
      "model_module_version": "1.0.0",
      "model_name": "OutputModel",
      "state": {
       "layout": "IPY_MODEL_679c61923be04cb0b70d374adbe1f0a4",
       "outputs": [
        {
         "data": {
          "image/png": "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\n",
          "text/plain": "<Figure size 1800x504 with 1 Axes>"
         },
         "metadata": {
          "needs_background": "light"
         },
         "output_type": "display_data"
        }
       ]
      }
     },
     "ec803d333c4445119f33a807657d8c25": {
      "model_module": "@jupyter-widgets/controls",
      "model_module_version": "1.5.0",
      "model_name": "DescriptionStyleModel",
      "state": {
       "description_width": ""
      }
     },
     "eda3416ee8354d01aedc27dfb0d9eade": {
      "model_module": "@jupyter-widgets/controls",
      "model_module_version": "1.5.0",
      "model_name": "CheckboxModel",
      "state": {
       "description": "Check me",
       "disabled": false,
       "layout": "IPY_MODEL_351bc101c2884f9cb0085a63606e5738",
       "style": "IPY_MODEL_e25b1cd48ed546c6a610dadf10794c25",
       "value": false
      }
     },
     "eed67691cdca4ef183f0f37b2892da0e": {
      "model_module": "@jupyter-widgets/base",
      "model_module_version": "1.2.0",
      "model_name": "LayoutModel",
      "state": {}
     },
     "f01181a657df4cb59b7b4bc080f0cdf9": {
      "model_module": "@jupyter-widgets/controls",
      "model_module_version": "1.5.0",
      "model_name": "DescriptionStyleModel",
      "state": {
       "description_width": ""
      }
     },
     "f058cc76a402403393be5319125c3bae": {
      "model_module": "@jupyter-widgets/base",
      "model_module_version": "1.2.0",
      "model_name": "LayoutModel",
      "state": {}
     },
     "f0bf9ecae56747e19b7137d63f7ecc6b": {
      "model_module": "@jupyter-widgets/controls",
      "model_module_version": "1.5.0",
      "model_name": "CheckboxModel",
      "state": {
       "description": "Check me",
       "disabled": false,
       "layout": "IPY_MODEL_14e233735bd340e6a5dae9388973e564",
       "style": "IPY_MODEL_eb85e52c1a1f4cac97b71e9675fb927b",
       "value": false
      }
     },
     "f0cb99b92b684777a6828e60e63c6b0c": {
      "model_module": "@jupyter-widgets/controls",
      "model_module_version": "1.5.0",
      "model_name": "DescriptionStyleModel",
      "state": {
       "description_width": ""
      }
     },
     "f1b43c2e4a004db49a0d031d30b14a8b": {
      "model_module": "@jupyter-widgets/controls",
      "model_module_version": "1.5.0",
      "model_name": "DescriptionStyleModel",
      "state": {
       "description_width": ""
      }
     },
     "f225aa2e2f2b41c3a131f7c17454f71d": {
      "model_module": "@jupyter-widgets/controls",
      "model_module_version": "1.5.0",
      "model_name": "DescriptionStyleModel",
      "state": {
       "description_width": ""
      }
     },
     "f23c072eda804bf78ec8c79801d028f9": {
      "model_module": "@jupyter-widgets/controls",
      "model_module_version": "1.5.0",
      "model_name": "DescriptionStyleModel",
      "state": {
       "description_width": ""
      }
     },
     "f2e8bf33d09b448eb73ec9ee1effc7ff": {
      "model_module": "@jupyter-widgets/controls",
      "model_module_version": "1.5.0",
      "model_name": "FloatSliderModel",
      "state": {
       "description": "y",
       "layout": "IPY_MODEL_91558087e240464f8ba145ac1a4fa3f6",
       "max": 3,
       "min": -1,
       "step": 0.1,
       "style": "IPY_MODEL_e5335b7e637b42ee8e1ef78cbe30ae0a",
       "value": 1
      }
     },
     "f2f9b224db5a4d8d8231b1b109152731": {
      "model_module": "@jupyter-widgets/controls",
      "model_module_version": "1.5.0",
      "model_name": "DropdownModel",
      "state": {
       "_options_labels": [
        "1",
        "2"
       ],
       "description": "batch",
       "index": 1,
       "layout": "IPY_MODEL_cfc429a9d09c4b1f928d200ab661266d",
       "style": "IPY_MODEL_527909cbb204491ea1fc45fc0215f1cc"
      }
     },
     "f31fcdad19ff4c26b653744ce513795b": {
      "model_module": "@jupyter-widgets/controls",
      "model_module_version": "1.5.0",
      "model_name": "DescriptionStyleModel",
      "state": {
       "description_width": ""
      }
     },
     "f479bda1a7dd432e87b06229693d0d59": {
      "model_module": "@jupyter-widgets/controls",
      "model_module_version": "1.5.0",
      "model_name": "DescriptionStyleModel",
      "state": {
       "description_width": ""
      }
     },
     "f4e4880824ce4fd9b3df7ec4dab1954b": {
      "model_module": "@jupyter-widgets/output",
      "model_module_version": "1.0.0",
      "model_name": "OutputModel",
      "state": {
       "layout": "IPY_MODEL_e1d64a45b4de496db376c56dfd2b9019",
       "outputs": [
        {
         "name": "stdout",
         "output_type": "stream",
         "text": "graph1\n"
        }
       ]
      }
     },
     "f517e1089f7247eb857c6c097686fcbf": {
      "model_module": "@jupyter-widgets/controls",
      "model_module_version": "1.5.0",
      "model_name": "DropdownModel",
      "state": {
       "_options_labels": [
        "1",
        "2"
       ],
       "description": "batch",
       "index": 0,
       "layout": "IPY_MODEL_fd37370229ba458bb661589307f43b58",
       "style": "IPY_MODEL_3b7cf857ff9e463e802c69589e8c272c"
      }
     },
     "f5cbf958434e4571911f26406be8fe0a": {
      "model_module": "@jupyter-widgets/base",
      "model_module_version": "1.2.0",
      "model_name": "LayoutModel",
      "state": {}
     },
     "f61ed32a62284bcb9971b91fdc04a68e": {
      "model_module": "@jupyter-widgets/base",
      "model_module_version": "1.2.0",
      "model_name": "LayoutModel",
      "state": {}
     },
     "f73b3d9d7cce4710b38e269e61d0cc58": {
      "model_module": "@jupyter-widgets/controls",
      "model_module_version": "1.5.0",
      "model_name": "CheckboxModel",
      "state": {
       "description": "x",
       "disabled": false,
       "layout": "IPY_MODEL_224b364eeccb466b8820755acecc83c3",
       "style": "IPY_MODEL_34fba2b899c54166903dbd4565d6c8e6",
       "value": true
      }
     },
     "f7620b6d88c34b8a89870c878cdd2fd9": {
      "model_module": "@jupyter-widgets/controls",
      "model_module_version": "1.5.0",
      "model_name": "DescriptionStyleModel",
      "state": {
       "description_width": ""
      }
     },
     "f91e3006455d43fc991b19755ab8797c": {
      "model_module": "@jupyter-widgets/base",
      "model_module_version": "1.2.0",
      "model_name": "LayoutModel",
      "state": {}
     },
     "fa1dc33e3dcb48ec9666fa7559c65c20": {
      "model_module": "@jupyter-widgets/base",
      "model_module_version": "1.2.0",
      "model_name": "LayoutModel",
      "state": {}
     },
     "fb0ce127aaae44889f8371d24a7cd164": {
      "model_module": "@jupyter-widgets/base",
      "model_module_version": "1.2.0",
      "model_name": "LayoutModel",
      "state": {}
     },
     "fcb36c31d51a45fca1047e8b90b36ee5": {
      "model_module": "@jupyter-widgets/base",
      "model_module_version": "1.2.0",
      "model_name": "LayoutModel",
      "state": {}
     },
     "fd05e5c1500547369358c0318aa8eb93": {
      "model_module": "@jupyter-widgets/controls",
      "model_module_version": "1.5.0",
      "model_name": "DescriptionStyleModel",
      "state": {
       "description_width": ""
      }
     },
     "fd064d4d9f5544ac8e8aaf51752d3e95": {
      "model_module": "@jupyter-widgets/controls",
      "model_module_version": "1.5.0",
      "model_name": "DropdownModel",
      "state": {
       "_options_labels": [
        "1",
        "2",
        "3"
       ],
       "description": "batch",
       "index": 1,
       "layout": "IPY_MODEL_15dcdbac4bf446e6b29cf3c5806a0a2a",
       "style": "IPY_MODEL_ec803d333c4445119f33a807657d8c25"
      }
     },
     "fd37370229ba458bb661589307f43b58": {
      "model_module": "@jupyter-widgets/base",
      "model_module_version": "1.2.0",
      "model_name": "LayoutModel",
      "state": {}
     },
     "fdc765a2994041e29429442de4354ed5": {
      "model_module": "@jupyter-widgets/output",
      "model_module_version": "1.0.0",
      "model_name": "OutputModel",
      "state": {
       "layout": "IPY_MODEL_9a090dc0d5974fa68d791f14b9722194",
       "outputs": [
        {
         "name": "stdout",
         "output_type": "stream",
         "text": "graph1\n"
        }
       ]
      }
     },
     "fe0407cc4e08400e92a0ccf93dc6b876": {
      "model_module": "@jupyter-widgets/base",
      "model_module_version": "1.2.0",
      "model_name": "LayoutModel",
      "state": {}
     },
     "ff42122718e744bd82fb7aa554256bc3": {
      "model_module": "@jupyter-widgets/base",
      "model_module_version": "1.2.0",
      "model_name": "LayoutModel",
      "state": {}
     },
     "ffa1f84c6a3d41c0a5d176ff16104581": {
      "model_module": "@jupyter-widgets/controls",
      "model_module_version": "1.5.0",
      "model_name": "DropdownModel",
      "state": {
       "_options_labels": [
        "1",
        "2"
       ],
       "description": "Batch",
       "index": 0,
       "layout": "IPY_MODEL_92eb76c3abc64b799106b441c28aeffe",
       "style": "IPY_MODEL_25a797f462144ccabf955a1b5365dd46"
      }
     }
    },
    "version_major": 2,
    "version_minor": 0
   }
  }
 },
 "nbformat": 4,
 "nbformat_minor": 2
}
